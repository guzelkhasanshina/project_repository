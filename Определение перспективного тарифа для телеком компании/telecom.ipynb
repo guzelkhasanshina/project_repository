{
 "cells": [
  {
   "cell_type": "markdown",
   "metadata": {},
   "source": [
    "# Определение перспективного тарифа для телеком компании.\n",
    "\n",
    "В нашем распоряжении данные компании «Мегалайн» — федерального оператора сотовой связи. Клиентам предлагают два тарифных плана: «Смарт» и «Ультра». Чтобы скорректировать рекламный бюджет, коммерческому департаменту необходимо понять, какой тариф приносит больше денег.\n",
    "Нам предстоит сделать предварительный анализ тарифов на небольшой выборке клиентов. В распоряжении данные 500 пользователей «Мегалайна»: кто они, откуда, каким тарифом пользуются, сколько звонков и сообщений каждый отправил за 2018 год. Нужно проанализировать поведение клиентов и сделать вывод — какой тариф лучше."
   ]
  },
  {
   "cell_type": "markdown",
   "metadata": {},
   "source": [
    "### Шаг 1. Изучим общую информацию."
   ]
  },
  {
   "cell_type": "code",
   "execution_count": 14,
   "metadata": {},
   "outputs": [],
   "source": [
    "import pandas as pd\n",
    "calls = pd.read_csv('calls.csv')\n",
    "internet = pd.read_csv('internet.csv')\n",
    "messages = pd.read_csv('messages.csv')\n",
    "tariffs = pd.read_csv('tariffs.csv')\n",
    "users = pd.read_csv('users.csv')\n",
    "\n",
    "#display(calls.info(), internet.info(), messages.info(),tariffs.info(), users.info())"
   ]
  },
  {
   "cell_type": "markdown",
   "metadata": {},
   "source": [
    "### Вывод\n",
    "\n",
    "В нашем распоряжении 5 таблиц с данными о клиентах телеком компании \"Мегалайн\". Пропущенных значений в таблицах нет, за исключением таблицы __*users*__, столбец __*churn_date*__. Но нам известно, если значение пропущено, то тариф ещё действовал на момент выгрузки данных. Также в некоторых столбцах каждой таблицы имеется несоответствие с типом данных. Пропробуем преобразовать типы и подготовить данные к дальнейшей обработке."
   ]
  },
  {
   "cell_type": "markdown",
   "metadata": {},
   "source": [
    "### Шаг 2. Подготовим данные"
   ]
  },
  {
   "cell_type": "code",
   "execution_count": 15,
   "metadata": {},
   "outputs": [],
   "source": [
    "#изменяем тип данных\n",
    "calls['call_date'] = pd.to_datetime(calls['call_date'], format='%Y.%m.%d')\n",
    "internet['session_date'] = pd.to_datetime(internet['session_date'], format='%Y.%m.%d')\n",
    "messages['message_date'] = pd.to_datetime(messages['message_date'], format='%Y.%m.%d')\n",
    "users['reg_date'] = pd.to_datetime(users['reg_date'], format='%Y.%m.%d')\n",
    "users['churn_date'] = pd.to_datetime(users['churn_date'], format='%Y.%m.%d')"
   ]
  },
  {
   "cell_type": "code",
   "execution_count": 16,
   "metadata": {},
   "outputs": [],
   "source": [
    "#избавиляемся от 0 в длительности звонка и в интернет трафике\n",
    "import numpy as np\n",
    "calls[calls['duration'] == 0.00] = calls[calls['duration'] == 0.00].replace(0.00,1.00)\n",
    "internet[internet['mb_used'] == 0.00] = internet[internet['mb_used'] == 0.00].replace(0.00,1.00)\n",
    "\n",
    "#округляем данные согласно условию Мегалайн\n",
    "calls['duration'] = np.ceil(calls['duration']).astype('int')\n",
    "internet['mb_used'] = np.ceil(internet['mb_used']).astype('int')"
   ]
  },
  {
   "cell_type": "markdown",
   "metadata": {},
   "source": [
    "Компания Мегалайн всегда округляет вверх значения минут и мегабайтов. Если пользователь проговорил всего 1 секунду, в тарифе засчитывается целая минута. Согласно этому условию, мы округлили значения в минутах и использованном трафике. Также, нулевую длительность звонков и израсходованный интернет-трафик заменили на 1. Предположили, что 0.00 это некорректная выгрузка данных или ошибка записи."
   ]
  },
  {
   "cell_type": "code",
   "execution_count": 17,
   "metadata": {},
   "outputs": [],
   "source": [
    "#выделяем месяц из данных даты.\n",
    "calls['month'] = calls['call_date'].dt.month\n",
    "internet['month'] = internet['session_date'].dt.month\n",
    "messages['month'] = messages['message_date'].dt.month\n",
    "users['month'] = users['reg_date'].dt.month\n",
    "\n",
    "month_name = ['Январь', 'Февраль', 'Март', 'Апрель', 'Май', 'Июнь',\n",
    "              'Июль', 'Август', 'Сентябрь', 'Октябрь', 'Ноябрь', 'Декабрь']\n",
    "month_fl = 1\n",
    "for name in month_name:\n",
    "    calls['month'] = calls['month'].replace(month_fl,name)\n",
    "    internet['month'] = internet['month'].replace(month_fl,name)\n",
    "    messages['month'] = messages['month'].replace(month_fl,name)\n",
    "    users['month'] = users['month'].replace(month_fl,name)\n",
    "    month_fl +=1"
   ]
  },
  {
   "cell_type": "code",
   "execution_count": 18,
   "metadata": {},
   "outputs": [],
   "source": [
    "#расходы пользователей по месяцам (смс, звонки, интернет)\n",
    "calls_month = calls.groupby(['user_id','month'], as_index=False)[['id','duration']].agg({'id':['count'], 'duration':[sum]})\n",
    "messages_month = messages.groupby(['user_id', 'month'], as_index=False).agg({'id':['count']})\n",
    "internet_month = internet.groupby(['user_id', 'month'], as_index=False).agg({'mb_used':[sum]})\n",
    "\n",
    "#переименовываем столбцы, избавляясь от мультиндексов\n",
    "calls_month.columns = ['user_id', 'month', 'count_calls', 'count_duration']\n",
    "messages_month.columns = ['user_id', 'month', 'count_messages']\n",
    "internet_month.columns = ['user_id', 'month', 'mb_per_month']\n",
    "\n",
    "#объединяем данные в одну таблицу\n",
    "data_per_month_temp = calls_month.merge(messages_month, on = ['user_id', 'month'], how = 'outer')\n",
    "data_per_month = data_per_month_temp.merge(internet_month, on = ['user_id', 'month'], how = 'outer')"
   ]
  },
  {
   "cell_type": "code",
   "execution_count": 19,
   "metadata": {},
   "outputs": [],
   "source": [
    "#считаем помесячную выручку с каждого пользователя\n",
    "users_tariff = users[['user_id', 'tariff']] \n",
    "data_tariff = data_per_month.merge(users_tariff, on = ['user_id'], how = 'inner')\n",
    "data_tariff.columns = ['user_id', 'month', 'count_calls', 'count_duration', \n",
    "                       'count_messages', 'mb_per_month', 'tariff_name']\n",
    "\n",
    "data_tariff['count_calls'] = data_tariff['count_calls'].fillna(0)\n",
    "data_tariff['count_duration'] = data_tariff['count_duration'].fillna(0)\n",
    "data_tariff['mb_per_month'] = data_tariff['mb_per_month'].fillna(0)\n",
    "data_tariff['count_messages'] = data_tariff['count_messages'].fillna(0)\n",
    "\n",
    "all_data = data_tariff.merge(tariffs, on = ['tariff_name'], how = 'outer')#общая таблица с ежемесячными расходами и тарифами\n",
    "\n",
    "for i in range(0,len(all_data)):#помесячная выручка:\n",
    "    ov_call = all_data.loc[i,'count_duration'] - all_data.loc[i,'minutes_included']\n",
    "    ov_mess = all_data.loc[i,'count_messages'] - all_data.loc[i,'messages_included']\n",
    "    ov_inet = np.ceil((all_data.loc[i,'mb_per_month'] - all_data.loc[i,'mb_per_month_included'])/1024)\n",
    "    if ov_call <0:\n",
    "        ov_call = 0\n",
    "    if ov_mess <0:\n",
    "        ov_mess = 0\n",
    "    if ov_inet <0:\n",
    "        ov_inet = 0\n",
    "    re_call = ov_call * all_data.loc[i,'rub_per_minute']\n",
    "    re_mess = ov_mess * all_data.loc[i,'rub_per_message']\n",
    "    re_inet = ov_inet * all_data.loc[i,'rub_per_gb']\n",
    "    re_abon = all_data.loc[i,'rub_monthly_fee']\n",
    "    re_sum = re_call + re_mess + re_inet + re_abon\n",
    "    all_data.loc[i,'revenue'] = re_sum\n",
    "    \n",
    "#добавили столбец с выручкой. теперь all_data -  таблица с расходами, тарифами и выручкой пользователей по месяцам.\n",
    "#display(all_data.head())\n",
    "  "
   ]
  },
  {
   "cell_type": "code",
   "execution_count": 20,
   "metadata": {},
   "outputs": [
    {
     "data": {
      "text/html": [
       "<div>\n",
       "<style scoped>\n",
       "    .dataframe tbody tr th:only-of-type {\n",
       "        vertical-align: middle;\n",
       "    }\n",
       "\n",
       "    .dataframe tbody tr th {\n",
       "        vertical-align: top;\n",
       "    }\n",
       "\n",
       "    .dataframe thead th {\n",
       "        text-align: right;\n",
       "    }\n",
       "</style>\n",
       "<table border=\"1\" class=\"dataframe\">\n",
       "  <thead>\n",
       "    <tr style=\"text-align: right;\">\n",
       "      <th></th>\n",
       "      <th>user_id</th>\n",
       "      <th>month</th>\n",
       "      <th>count_calls</th>\n",
       "      <th>count_duration</th>\n",
       "      <th>count_messages</th>\n",
       "      <th>mb_per_month</th>\n",
       "      <th>tariff_name</th>\n",
       "      <th>messages_included</th>\n",
       "      <th>mb_per_month_included</th>\n",
       "      <th>minutes_included</th>\n",
       "      <th>rub_monthly_fee</th>\n",
       "      <th>rub_per_gb</th>\n",
       "      <th>rub_per_message</th>\n",
       "      <th>rub_per_minute</th>\n",
       "      <th>revenue</th>\n",
       "    </tr>\n",
       "  </thead>\n",
       "  <tbody>\n",
       "    <tr>\n",
       "      <th>0</th>\n",
       "      <td>1000</td>\n",
       "      <td>Август</td>\n",
       "      <td>52.0</td>\n",
       "      <td>418.0</td>\n",
       "      <td>81.0</td>\n",
       "      <td>14072.0</td>\n",
       "      <td>ultra</td>\n",
       "      <td>1000</td>\n",
       "      <td>30720</td>\n",
       "      <td>3000</td>\n",
       "      <td>1950</td>\n",
       "      <td>150</td>\n",
       "      <td>1</td>\n",
       "      <td>1</td>\n",
       "      <td>1950.0</td>\n",
       "    </tr>\n",
       "    <tr>\n",
       "      <th>1</th>\n",
       "      <td>1000</td>\n",
       "      <td>Декабрь</td>\n",
       "      <td>46.0</td>\n",
       "      <td>341.0</td>\n",
       "      <td>70.0</td>\n",
       "      <td>9829.0</td>\n",
       "      <td>ultra</td>\n",
       "      <td>1000</td>\n",
       "      <td>30720</td>\n",
       "      <td>3000</td>\n",
       "      <td>1950</td>\n",
       "      <td>150</td>\n",
       "      <td>1</td>\n",
       "      <td>1</td>\n",
       "      <td>1950.0</td>\n",
       "    </tr>\n",
       "    <tr>\n",
       "      <th>2</th>\n",
       "      <td>1000</td>\n",
       "      <td>Июль</td>\n",
       "      <td>47.0</td>\n",
       "      <td>346.0</td>\n",
       "      <td>75.0</td>\n",
       "      <td>14017.0</td>\n",
       "      <td>ultra</td>\n",
       "      <td>1000</td>\n",
       "      <td>30720</td>\n",
       "      <td>3000</td>\n",
       "      <td>1950</td>\n",
       "      <td>150</td>\n",
       "      <td>1</td>\n",
       "      <td>1</td>\n",
       "      <td>1950.0</td>\n",
       "    </tr>\n",
       "    <tr>\n",
       "      <th>3</th>\n",
       "      <td>1000</td>\n",
       "      <td>Июнь</td>\n",
       "      <td>43.0</td>\n",
       "      <td>187.0</td>\n",
       "      <td>60.0</td>\n",
       "      <td>23262.0</td>\n",
       "      <td>ultra</td>\n",
       "      <td>1000</td>\n",
       "      <td>30720</td>\n",
       "      <td>3000</td>\n",
       "      <td>1950</td>\n",
       "      <td>150</td>\n",
       "      <td>1</td>\n",
       "      <td>1</td>\n",
       "      <td>1950.0</td>\n",
       "    </tr>\n",
       "    <tr>\n",
       "      <th>4</th>\n",
       "      <td>1000</td>\n",
       "      <td>Май</td>\n",
       "      <td>22.0</td>\n",
       "      <td>164.0</td>\n",
       "      <td>22.0</td>\n",
       "      <td>2257.0</td>\n",
       "      <td>ultra</td>\n",
       "      <td>1000</td>\n",
       "      <td>30720</td>\n",
       "      <td>3000</td>\n",
       "      <td>1950</td>\n",
       "      <td>150</td>\n",
       "      <td>1</td>\n",
       "      <td>1</td>\n",
       "      <td>1950.0</td>\n",
       "    </tr>\n",
       "    <tr>\n",
       "      <th>...</th>\n",
       "      <td>...</td>\n",
       "      <td>...</td>\n",
       "      <td>...</td>\n",
       "      <td>...</td>\n",
       "      <td>...</td>\n",
       "      <td>...</td>\n",
       "      <td>...</td>\n",
       "      <td>...</td>\n",
       "      <td>...</td>\n",
       "      <td>...</td>\n",
       "      <td>...</td>\n",
       "      <td>...</td>\n",
       "      <td>...</td>\n",
       "      <td>...</td>\n",
       "      <td>...</td>\n",
       "    </tr>\n",
       "    <tr>\n",
       "      <th>3209</th>\n",
       "      <td>1489</td>\n",
       "      <td>Август</td>\n",
       "      <td>0.0</td>\n",
       "      <td>0.0</td>\n",
       "      <td>17.0</td>\n",
       "      <td>11072.0</td>\n",
       "      <td>smart</td>\n",
       "      <td>50</td>\n",
       "      <td>15360</td>\n",
       "      <td>500</td>\n",
       "      <td>550</td>\n",
       "      <td>200</td>\n",
       "      <td>3</td>\n",
       "      <td>3</td>\n",
       "      <td>550.0</td>\n",
       "    </tr>\n",
       "    <tr>\n",
       "      <th>3210</th>\n",
       "      <td>1489</td>\n",
       "      <td>Декабрь</td>\n",
       "      <td>0.0</td>\n",
       "      <td>0.0</td>\n",
       "      <td>35.0</td>\n",
       "      <td>17349.0</td>\n",
       "      <td>smart</td>\n",
       "      <td>50</td>\n",
       "      <td>15360</td>\n",
       "      <td>500</td>\n",
       "      <td>550</td>\n",
       "      <td>200</td>\n",
       "      <td>3</td>\n",
       "      <td>3</td>\n",
       "      <td>950.0</td>\n",
       "    </tr>\n",
       "    <tr>\n",
       "      <th>3211</th>\n",
       "      <td>1489</td>\n",
       "      <td>Ноябрь</td>\n",
       "      <td>0.0</td>\n",
       "      <td>0.0</td>\n",
       "      <td>20.0</td>\n",
       "      <td>17526.0</td>\n",
       "      <td>smart</td>\n",
       "      <td>50</td>\n",
       "      <td>15360</td>\n",
       "      <td>500</td>\n",
       "      <td>550</td>\n",
       "      <td>200</td>\n",
       "      <td>3</td>\n",
       "      <td>3</td>\n",
       "      <td>1150.0</td>\n",
       "    </tr>\n",
       "    <tr>\n",
       "      <th>3212</th>\n",
       "      <td>1489</td>\n",
       "      <td>Октябрь</td>\n",
       "      <td>0.0</td>\n",
       "      <td>0.0</td>\n",
       "      <td>21.0</td>\n",
       "      <td>19599.0</td>\n",
       "      <td>smart</td>\n",
       "      <td>50</td>\n",
       "      <td>15360</td>\n",
       "      <td>500</td>\n",
       "      <td>550</td>\n",
       "      <td>200</td>\n",
       "      <td>3</td>\n",
       "      <td>3</td>\n",
       "      <td>1550.0</td>\n",
       "    </tr>\n",
       "    <tr>\n",
       "      <th>3213</th>\n",
       "      <td>1489</td>\n",
       "      <td>Сентябрь</td>\n",
       "      <td>0.0</td>\n",
       "      <td>0.0</td>\n",
       "      <td>32.0</td>\n",
       "      <td>17246.0</td>\n",
       "      <td>smart</td>\n",
       "      <td>50</td>\n",
       "      <td>15360</td>\n",
       "      <td>500</td>\n",
       "      <td>550</td>\n",
       "      <td>200</td>\n",
       "      <td>3</td>\n",
       "      <td>3</td>\n",
       "      <td>950.0</td>\n",
       "    </tr>\n",
       "  </tbody>\n",
       "</table>\n",
       "<p>3214 rows × 15 columns</p>\n",
       "</div>"
      ],
      "text/plain": [
       "      user_id     month  count_calls  count_duration  count_messages  \\\n",
       "0        1000    Август         52.0           418.0            81.0   \n",
       "1        1000   Декабрь         46.0           341.0            70.0   \n",
       "2        1000      Июль         47.0           346.0            75.0   \n",
       "3        1000      Июнь         43.0           187.0            60.0   \n",
       "4        1000       Май         22.0           164.0            22.0   \n",
       "...       ...       ...          ...             ...             ...   \n",
       "3209     1489    Август          0.0             0.0            17.0   \n",
       "3210     1489   Декабрь          0.0             0.0            35.0   \n",
       "3211     1489    Ноябрь          0.0             0.0            20.0   \n",
       "3212     1489   Октябрь          0.0             0.0            21.0   \n",
       "3213     1489  Сентябрь          0.0             0.0            32.0   \n",
       "\n",
       "      mb_per_month tariff_name  messages_included  mb_per_month_included  \\\n",
       "0          14072.0       ultra               1000                  30720   \n",
       "1           9829.0       ultra               1000                  30720   \n",
       "2          14017.0       ultra               1000                  30720   \n",
       "3          23262.0       ultra               1000                  30720   \n",
       "4           2257.0       ultra               1000                  30720   \n",
       "...            ...         ...                ...                    ...   \n",
       "3209       11072.0       smart                 50                  15360   \n",
       "3210       17349.0       smart                 50                  15360   \n",
       "3211       17526.0       smart                 50                  15360   \n",
       "3212       19599.0       smart                 50                  15360   \n",
       "3213       17246.0       smart                 50                  15360   \n",
       "\n",
       "      minutes_included  rub_monthly_fee  rub_per_gb  rub_per_message  \\\n",
       "0                 3000             1950         150                1   \n",
       "1                 3000             1950         150                1   \n",
       "2                 3000             1950         150                1   \n",
       "3                 3000             1950         150                1   \n",
       "4                 3000             1950         150                1   \n",
       "...                ...              ...         ...              ...   \n",
       "3209               500              550         200                3   \n",
       "3210               500              550         200                3   \n",
       "3211               500              550         200                3   \n",
       "3212               500              550         200                3   \n",
       "3213               500              550         200                3   \n",
       "\n",
       "      rub_per_minute  revenue  \n",
       "0                  1   1950.0  \n",
       "1                  1   1950.0  \n",
       "2                  1   1950.0  \n",
       "3                  1   1950.0  \n",
       "4                  1   1950.0  \n",
       "...              ...      ...  \n",
       "3209               3    550.0  \n",
       "3210               3    950.0  \n",
       "3211               3   1150.0  \n",
       "3212               3   1550.0  \n",
       "3213               3    950.0  \n",
       "\n",
       "[3214 rows x 15 columns]"
      ]
     },
     "execution_count": 20,
     "metadata": {},
     "output_type": "execute_result"
    }
   ],
   "source": [
    "all_data"
   ]
  },
  {
   "cell_type": "markdown",
   "metadata": {},
   "source": [
    "Для расчета расходов каждого пользователя по месяцам, объединили таблицы __*calls*__, __*messages*__ и __*internet*__ в одну общую __*data_tariff*__. После этого в таблице появились пропущенные значения. Для возможности дальнейшего анализа, заменили все пропущенные значения 0. Далее расчитали помесячную выручку с каждого пользователя согласно тарифам Мегалайн."
   ]
  },
  {
   "cell_type": "markdown",
   "metadata": {},
   "source": [
    "### Шаг 3. Анализ данных"
   ]
  },
  {
   "cell_type": "code",
   "execution_count": 21,
   "metadata": {},
   "outputs": [
    {
     "data": {
      "text/html": [
       "<div>\n",
       "<style scoped>\n",
       "    .dataframe tbody tr th:only-of-type {\n",
       "        vertical-align: middle;\n",
       "    }\n",
       "\n",
       "    .dataframe tbody tr th {\n",
       "        vertical-align: top;\n",
       "    }\n",
       "\n",
       "    .dataframe thead tr th {\n",
       "        text-align: left;\n",
       "    }\n",
       "\n",
       "    .dataframe thead tr:last-of-type th {\n",
       "        text-align: right;\n",
       "    }\n",
       "</style>\n",
       "<table border=\"1\" class=\"dataframe\">\n",
       "  <thead>\n",
       "    <tr>\n",
       "      <th></th>\n",
       "      <th>count_duration</th>\n",
       "      <th>count_messages</th>\n",
       "      <th>mb_per_month</th>\n",
       "    </tr>\n",
       "    <tr>\n",
       "      <th></th>\n",
       "      <th>mean</th>\n",
       "      <th>mean</th>\n",
       "      <th>mean</th>\n",
       "    </tr>\n",
       "    <tr>\n",
       "      <th>tariff_name</th>\n",
       "      <th></th>\n",
       "      <th></th>\n",
       "      <th></th>\n",
       "    </tr>\n",
       "  </thead>\n",
       "  <tbody>\n",
       "    <tr>\n",
       "      <th>smart</th>\n",
       "      <td>429.450875</td>\n",
       "      <td>33.384029</td>\n",
       "      <td>16237.184388</td>\n",
       "    </tr>\n",
       "    <tr>\n",
       "      <th>ultra</th>\n",
       "      <td>540.779695</td>\n",
       "      <td>49.363452</td>\n",
       "      <td>19488.703553</td>\n",
       "    </tr>\n",
       "  </tbody>\n",
       "</table>\n",
       "</div>"
      ],
      "text/plain": [
       "            count_duration count_messages  mb_per_month\n",
       "                      mean           mean          mean\n",
       "tariff_name                                            \n",
       "smart           429.450875      33.384029  16237.184388\n",
       "ultra           540.779695      49.363452  19488.703553"
      ]
     },
     "metadata": {},
     "output_type": "display_data"
    },
    {
     "data": {
      "text/html": [
       "<div>\n",
       "<style scoped>\n",
       "    .dataframe tbody tr th:only-of-type {\n",
       "        vertical-align: middle;\n",
       "    }\n",
       "\n",
       "    .dataframe tbody tr th {\n",
       "        vertical-align: top;\n",
       "    }\n",
       "\n",
       "    .dataframe thead th {\n",
       "        text-align: right;\n",
       "    }\n",
       "</style>\n",
       "<table border=\"1\" class=\"dataframe\">\n",
       "  <thead>\n",
       "    <tr style=\"text-align: right;\">\n",
       "      <th></th>\n",
       "      <th>tariff_name</th>\n",
       "      <th>minutes_included</th>\n",
       "      <th>messages_included</th>\n",
       "      <th>mb_per_month_included</th>\n",
       "    </tr>\n",
       "  </thead>\n",
       "  <tbody>\n",
       "    <tr>\n",
       "      <th>0</th>\n",
       "      <td>smart</td>\n",
       "      <td>500</td>\n",
       "      <td>50</td>\n",
       "      <td>15360</td>\n",
       "    </tr>\n",
       "    <tr>\n",
       "      <th>1</th>\n",
       "      <td>ultra</td>\n",
       "      <td>3000</td>\n",
       "      <td>1000</td>\n",
       "      <td>30720</td>\n",
       "    </tr>\n",
       "  </tbody>\n",
       "</table>\n",
       "</div>"
      ],
      "text/plain": [
       "  tariff_name  minutes_included  messages_included  mb_per_month_included\n",
       "0       smart               500                 50                  15360\n",
       "1       ultra              3000               1000                  30720"
      ]
     },
     "metadata": {},
     "output_type": "display_data"
    }
   ],
   "source": [
    "#Среднее количество звонков, смс и интернета\n",
    "mean_tariff = all_data.groupby(['tariff_name']).agg({'count_duration':['mean'], \n",
    "                                                     'count_messages':['mean'], \n",
    "                                                     'mb_per_month':['mean']})\n",
    "\n",
    "compare_tariff = tariffs[['tariff_name', 'minutes_included', 'messages_included', 'mb_per_month_included']]\n",
    "\n",
    "display(mean_tariff, compare_tariff)"
   ]
  },
  {
   "cell_type": "markdown",
   "metadata": {},
   "source": [
    "Посчитав средние значения длительности звонков, количества отправленных сообщений и использованного интернет-трафика, можно сделать вывод, что пользователи укладываются в лимиты тарифов, за исключением тарифа \"Смарт\": среднее протребление интернет-трафика превышает лимит."
   ]
  },
  {
   "cell_type": "code",
   "execution_count": 22,
   "metadata": {},
   "outputs": [
    {
     "data": {
      "text/plain": [
       "count_duration    6.146360e+04\n",
       "count_messages    1.306701e+03\n",
       "mb_per_month      5.744445e+07\n",
       "dtype: float64"
      ]
     },
     "metadata": {},
     "output_type": "display_data"
    },
    {
     "data": {
      "text/plain": [
       "count_duration     247.918544\n",
       "count_messages      36.148326\n",
       "mb_per_month      7579.211552\n",
       "dtype: float64"
      ]
     },
     "metadata": {},
     "output_type": "display_data"
    }
   ],
   "source": [
    "#дисперсия по выборке\n",
    "variance_estimate = np.var(all_data[['count_duration', 'count_messages', 'mb_per_month']], ddof=1)\n",
    "#стандартное отклонение\n",
    "standard_deviation = np.std(all_data[['count_duration', 'count_messages', 'mb_per_month']],ddof=1)\n",
    "\n",
    "display(variance_estimate, standard_deviation)"
   ]
  },
  {
   "cell_type": "code",
   "execution_count": 23,
   "metadata": {},
   "outputs": [
    {
     "data": {
      "image/png": "[encoded data removed]",
      "text/plain": [
       "<Figure size 420x300 with 1 Axes>"
      ]
     },
     "metadata": {
      "needs_background": "light"
     },
     "output_type": "display_data"
    },
    {
     "data": {
      "image/png": "[encoded data removed]",
      "text/plain": [
       "<Figure size 420x300 with 1 Axes>"
      ]
     },
     "metadata": {
      "needs_background": "light"
     },
     "output_type": "display_data"
    },
    {
     "data": {
      "image/png": "[encoded data removed]",
      "text/plain": [
       "<Figure size 420x300 with 1 Axes>"
      ]
     },
     "metadata": {
      "needs_background": "light"
     },
     "output_type": "display_data"
    }
   ],
   "source": [
    "import seaborn\n",
    "import matplotlib.pyplot as plt\n",
    "tariff_ultra = all_data.query('tariff_name == \"ultra\"').copy()       \n",
    "tariff_smart = all_data.query('tariff_name == \"smart\"').copy()        \n",
    "\n",
    "colums = ['count_duration', 'count_messages', 'mb_per_month']\n",
    "for row in colums:\n",
    "    plt.figure(figsize=(7,5), dpi= 60)\n",
    "    seaborn.distplot(tariff_ultra[row], bins = 'auto', label='Тариф Ультра', color='dodgerblue')\n",
    "    seaborn.distplot(tariff_smart[row],bins = 'auto', label='Тариф Смарт', color='red')\n",
    "    plt.legend(loc='upper right')\n",
    "    plt.xlabel(row)\n",
    "    plt.show()    "
   ]
  },
  {
   "cell_type": "markdown",
   "metadata": {},
   "source": [
    "По графикам мы видим, что данные выборки имеют нормальное распределение (Пуассона). Пик приходится на средние значения, кроме, графика отправленных сообщений. Пик - количество сообщений от 0-10. Особенно у тарифа Смарт -  преобладает малое количество отправленных смс. Вероятнее всего это связано с популярностью мессенджеров, работающих через интернет - Whatsapp, Viber, Telegram и др. "
   ]
  },
  {
   "cell_type": "markdown",
   "metadata": {},
   "source": [
    "### Шаг 4. Проверка гипотез"
   ]
  },
  {
   "cell_type": "markdown",
   "metadata": {},
   "source": [
    "Проверим гипотезы:\n",
    "- *средняя выручка пользователей тарифов «Ультра» и «Смарт» различается;*\n",
    "- *средняя выручка пользователей из Москвы отличается от выручки пользователей из других регионов;*"
   ]
  },
  {
   "cell_type": "markdown",
   "metadata": {},
   "source": [
    "Сформулируем нулевую гипотезу H₀: средняя выручка пользователей тарифов «Ультра» и «Смарт» равна. Поскольку H₀ всегда формулируется так, чтобы использовать знак равенства. Исходя из H₀ сформулируем альтернативную гипотезу H₁: средняя выручка пользователей тарифов «Ультра» и «Смарт» не равна, т.е различается."
   ]
  },
  {
   "cell_type": "code",
   "execution_count": 24,
   "metadata": {},
   "outputs": [
    {
     "name": "stdout",
     "output_type": "stream",
     "text": [
      "Средняя выручка тарифа Ультра: 2071\n",
      "Средняя выручка тарифа Смарт: 1313\n",
      "\n",
      "p-значение: 6.857477410979864e-149\n",
      "Отвергаем нулевую гипотезу\n"
     ]
    }
   ],
   "source": [
    "from scipy import stats as st\n",
    "alpha = 0.05\n",
    "print('Средняя выручка тарифа Ультра:', round(tariff_ultra['revenue'].mean()))\n",
    "print('Средняя выручка тарифа Смарт:', round(tariff_smart['revenue'].mean()))\n",
    "print()\n",
    "results = st.ttest_ind(tariff_ultra['revenue'] , tariff_smart['revenue'] )#проверим гипотезу \n",
    "print('p-значение:', results.pvalue)\n",
    "if (results.pvalue < alpha):#сравним получившееся p-значение с заданным уровнем статистической значимости\n",
    "    print(\"Отвергаем нулевую гипотезу\")\n",
    "else:\n",
    "    print(\"Не получилось отвергнуть нулевую гипотезу\")"
   ]
  },
  {
   "cell_type": "markdown",
   "metadata": {},
   "source": [
    "Сформулируем нулевую гипотезу H₀: средняя выручка пользователей из Москвы и выручка пользователей из других регионов равна; Исходя из H₀ сформулируем альтернативную гипотезу H₁: ссредняя выручка пользователей из Москвы и выручка пользователей из других регионов не равна, т.е различается."
   ]
  },
  {
   "cell_type": "code",
   "execution_count": 25,
   "metadata": {},
   "outputs": [
    {
     "name": "stdout",
     "output_type": "stream",
     "text": [
      "Средняя выручка пользователей из Москвы: 1561\n",
      "Средняя выручка пользователей из других регионов: 1541\n",
      "\n",
      "p-значение: 0.578869733775166\n",
      "Не получилось отвергнуть нулевую гипотезу\n"
     ]
    }
   ],
   "source": [
    "users_city = users[['user_id', 'city']]\n",
    "users_city\n",
    "alpha = 0.05\n",
    "all_data1 = all_data.merge(users_city, on = ['user_id'], how = 'inner')\n",
    "moscow = all_data1.query('city == \"Москва\"')\n",
    "other = all_data1.query('city != \"Москва\"')\n",
    "other.tail(20)\n",
    "print('Средняя выручка пользователей из Москвы:', round(moscow['revenue'].mean()))\n",
    "print('Средняя выручка пользователей из других регионов:', round(other['revenue'].mean()))\n",
    "print()\n",
    "\n",
    "results1 = st.ttest_ind(moscow['revenue'], other['revenue'], equal_var = True)#проверим гипотезу \n",
    "print('p-значение:', results1.pvalue)\n",
    "if (results1.pvalue<alpha):# сравним получившееся p-значение с заданным уровнем статистической значимости\n",
    "    print(\"Отвергаем нулевую гипотезу\")\n",
    "else:\n",
    "    print(\"Не получилось отвергнуть нулевую гипотезу\")"
   ]
  },
  {
   "cell_type": "markdown",
   "metadata": {},
   "source": [
    "Полученное значение p-value при проверки гипотезы говорит о том, что средние значения выручки хоть и неодинаковы, с вероятностью в почти 60% такое различие можно получить случайно. Это слишком большая вероятность, чтобы делать вывод о значимом различии между средними выручками."
   ]
  },
  {
   "cell_type": "markdown",
   "metadata": {},
   "source": [
    "Для проверки гипотез о равенстве среднего двух генеральных совокупностей по взятым из них выборкам, мы применили метод __scipy.stats.ttest_ind__, т.е. статистический t-тест с использованием t-распределения Стьюдента."
   ]
  },
  {
   "cell_type": "markdown",
   "metadata": {},
   "source": [
    "### Шаг 5. Общий вывод"
   ]
  },
  {
   "cell_type": "markdown",
   "metadata": {},
   "source": [
    "Мы провели предварительный анализ тарифов на небольшой выборке клиентов. В вашем распоряжении были данные 500 пользователей «Мегалайна»: кто они, откуда, каким тарифом пользуются, сколько звонков и сообщений каждый отправил за 2018 год. Проанализировав поведение клиентов по выборке можно сделать вывод — наиболее прибыльным для компании и наиболее удобным для пользователей является тариф \"Ультра\". Пользователи данного тарифа реже выходят за лимиты предоставленных услуг.  \n",
    "Мы предобработали данные: определили и изучили ошибки, привели данные к нужным типам. Пояснили, какие ошибки нашли и как их исправили. Для каждого пользователя посчитали: количество звонков и израсходованных минут разговора в месяц, количество отправленных сообщений, объем израсходованного интернет-трафика, помесячные выручки. Для пользователей тарифа \"Смарт\" в среднем необходимо около 430 минут, 33 смс и 17Гб интерент-трафика. Для поользователей тарифа \"Ультра\" - около 540 минут, 49 смс и 20Гб интернет-трафика. Поскольку мы ничего не знаем о генеральной совкупности, мы провели проверка двух гипотез по выборке: 1) средняя выручка пользователей тарифов «Ультра» и «Смарт» различается (гипотезу не отвергли) и 2)средняя выручка пользователей из Москвы отличается от выручки пользователей из других регионов (гипотезу отбросили). "
   ]
  },
  {
   "cell_type": "code",
   "execution_count": null,
   "metadata": {},
   "outputs": [],
   "source": []
  }
 ],
 "metadata": {
  "kernelspec": {
   "display_name": "Python 3",
   "language": "python",
   "name": "python3"
  },
  "language_info": {
   "codemirror_mode": {
    "name": "ipython",
    "version": 3
   },
   "file_extension": ".py",
   "mimetype": "text/x-python",
   "name": "python",
   "nbconvert_exporter": "python",
   "pygments_lexer": "ipython3",
   "version": "3.7.6"
  }
 },
 "nbformat": 4,
 "nbformat_minor": 2
}
