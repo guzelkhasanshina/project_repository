{
 "cells": [
  {
   "cell_type": "markdown",
   "metadata": {},
   "source": [
    "## Поведение пользователей мобильного приложения."
   ]
  },
  {
   "cell_type": "markdown",
   "metadata": {},
   "source": [
    "**Оглавление:**  \n",
    "\n",
    "#### [Шаг 1. Общая информация](#step1)\n",
    "#### [Шаг 2. Подготовка данных](#step2)\n",
    "#### [Шаг 3. Анализ данных логов](#step3)\n",
    "#### [Шаг 4. Анализ воронки событий](#step4)\n",
    "#### [Шаг 5. Анализ результатов эксперимента](#step5)\n",
    "#### [Шаг 6. Общий вывод](#step6)"
   ]
  },
  {
   "cell_type": "markdown",
   "metadata": {},
   "source": [
    "### Шаг 1. Общая информация <a name=\"step1\"></a>"
   ]
  },
  {
   "cell_type": "markdown",
   "metadata": {},
   "source": [
    "Изучим общую информацию."
   ]
  },
  {
   "cell_type": "code",
   "execution_count": 2,
   "metadata": {},
   "outputs": [],
   "source": [
    "import pandas as pd\n",
    "import warnings\n",
    "warnings.simplefilter(\"ignore\")\n",
    "import matplotlib.pyplot as plt\n",
    "from scipy import stats as st\n",
    "import numpy as np\n",
    "import math as mth\n",
    "\n",
    "logs_exp = pd.read_csv('logs_exp.csv', sep=\"\\t\")"
   ]
  },
  {
   "cell_type": "code",
   "execution_count": 3,
   "metadata": {},
   "outputs": [
    {
     "data": {
      "text/html": [
       "<div>\n",
       "<style scoped>\n",
       "    .dataframe tbody tr th:only-of-type {\n",
       "        vertical-align: middle;\n",
       "    }\n",
       "\n",
       "    .dataframe tbody tr th {\n",
       "        vertical-align: top;\n",
       "    }\n",
       "\n",
       "    .dataframe thead th {\n",
       "        text-align: right;\n",
       "    }\n",
       "</style>\n",
       "<table border=\"1\" class=\"dataframe\">\n",
       "  <thead>\n",
       "    <tr style=\"text-align: right;\">\n",
       "      <th></th>\n",
       "      <th>EventName</th>\n",
       "      <th>DeviceIDHash</th>\n",
       "      <th>EventTimestamp</th>\n",
       "      <th>ExpId</th>\n",
       "    </tr>\n",
       "  </thead>\n",
       "  <tbody>\n",
       "    <tr>\n",
       "      <th>0</th>\n",
       "      <td>MainScreenAppear</td>\n",
       "      <td>4575588528974610257</td>\n",
       "      <td>1564029816</td>\n",
       "      <td>246</td>\n",
       "    </tr>\n",
       "    <tr>\n",
       "      <th>1</th>\n",
       "      <td>MainScreenAppear</td>\n",
       "      <td>7416695313311560658</td>\n",
       "      <td>1564053102</td>\n",
       "      <td>246</td>\n",
       "    </tr>\n",
       "    <tr>\n",
       "      <th>2</th>\n",
       "      <td>PaymentScreenSuccessful</td>\n",
       "      <td>3518123091307005509</td>\n",
       "      <td>1564054127</td>\n",
       "      <td>248</td>\n",
       "    </tr>\n",
       "    <tr>\n",
       "      <th>3</th>\n",
       "      <td>CartScreenAppear</td>\n",
       "      <td>3518123091307005509</td>\n",
       "      <td>1564054127</td>\n",
       "      <td>248</td>\n",
       "    </tr>\n",
       "    <tr>\n",
       "      <th>4</th>\n",
       "      <td>PaymentScreenSuccessful</td>\n",
       "      <td>6217807653094995999</td>\n",
       "      <td>1564055322</td>\n",
       "      <td>248</td>\n",
       "    </tr>\n",
       "  </tbody>\n",
       "</table>\n",
       "</div>"
      ],
      "text/plain": [
       "                 EventName         DeviceIDHash  EventTimestamp  ExpId\n",
       "0         MainScreenAppear  4575588528974610257      1564029816    246\n",
       "1         MainScreenAppear  7416695313311560658      1564053102    246\n",
       "2  PaymentScreenSuccessful  3518123091307005509      1564054127    248\n",
       "3         CartScreenAppear  3518123091307005509      1564054127    248\n",
       "4  PaymentScreenSuccessful  6217807653094995999      1564055322    248"
      ]
     },
     "execution_count": 3,
     "metadata": {},
     "output_type": "execute_result"
    }
   ],
   "source": [
    "logs_exp.head(5)"
   ]
  },
  {
   "cell_type": "code",
   "execution_count": 4,
   "metadata": {},
   "outputs": [
    {
     "name": "stdout",
     "output_type": "stream",
     "text": [
      "<class 'pandas.core.frame.DataFrame'>\n",
      "RangeIndex: 244126 entries, 0 to 244125\n",
      "Data columns (total 4 columns):\n",
      " #   Column          Non-Null Count   Dtype \n",
      "---  ------          --------------   ----- \n",
      " 0   EventName       244126 non-null  object\n",
      " 1   DeviceIDHash    244126 non-null  int64 \n",
      " 2   EventTimestamp  244126 non-null  int64 \n",
      " 3   ExpId           244126 non-null  int64 \n",
      "dtypes: int64(3), object(1)\n",
      "memory usage: 7.5+ MB\n"
     ]
    }
   ],
   "source": [
    "logs_exp.info()"
   ]
  },
  {
   "cell_type": "markdown",
   "metadata": {},
   "source": [
    "#### Вывод  \n",
    "  \n",
    "В данных более 200тыс. строк. Пропущенных значений нет, но имеются несоответствия типов данных. Предобработаем данные в следующем шаге."
   ]
  },
  {
   "cell_type": "markdown",
   "metadata": {},
   "source": [
    "### Шаг 2. Подготовка данных <a name=\"step2\"></a>"
   ]
  },
  {
   "cell_type": "code",
   "execution_count": 5,
   "metadata": {},
   "outputs": [],
   "source": [
    "#переименуем столбцы\n",
    "logs_exp.columns = ['events', 'user_id', 'event_time', 'group']"
   ]
  },
  {
   "cell_type": "code",
   "execution_count": 6,
   "metadata": {},
   "outputs": [
    {
     "name": "stdout",
     "output_type": "stream",
     "text": [
      "<class 'pandas.core.frame.DataFrame'>\n",
      "RangeIndex: 244126 entries, 0 to 244125\n",
      "Data columns (total 5 columns):\n",
      " #   Column      Non-Null Count   Dtype         \n",
      "---  ------      --------------   -----         \n",
      " 0   events      244126 non-null  object        \n",
      " 1   user_id     244126 non-null  int64         \n",
      " 2   event_time  244126 non-null  datetime64[ns]\n",
      " 3   group       244126 non-null  int64         \n",
      " 4   event_date  244126 non-null  datetime64[ns]\n",
      "dtypes: datetime64[ns](2), int64(2), object(1)\n",
      "memory usage: 9.3+ MB\n"
     ]
    }
   ],
   "source": [
    "#данные в колонке с датой приведем к соответствующему типу\n",
    "logs_exp['event_time'] = pd.to_datetime(logs_exp['event_time'], unit ='s')\n",
    "\n",
    "#выделим дату в отдельный столбец\n",
    "logs_exp['event_date'] = pd.to_datetime(logs_exp['event_time'].dt.date)\n",
    "\n",
    "logs_exp.info()"
   ]
  },
  {
   "cell_type": "code",
   "execution_count": 7,
   "metadata": {},
   "outputs": [
    {
     "data": {
      "text/html": [
       "<div>\n",
       "<style scoped>\n",
       "    .dataframe tbody tr th:only-of-type {\n",
       "        vertical-align: middle;\n",
       "    }\n",
       "\n",
       "    .dataframe tbody tr th {\n",
       "        vertical-align: top;\n",
       "    }\n",
       "\n",
       "    .dataframe thead th {\n",
       "        text-align: right;\n",
       "    }\n",
       "</style>\n",
       "<table border=\"1\" class=\"dataframe\">\n",
       "  <thead>\n",
       "    <tr style=\"text-align: right;\">\n",
       "      <th></th>\n",
       "      <th>events</th>\n",
       "      <th>user_id</th>\n",
       "      <th>event_time</th>\n",
       "      <th>group</th>\n",
       "      <th>event_date</th>\n",
       "    </tr>\n",
       "  </thead>\n",
       "  <tbody>\n",
       "    <tr>\n",
       "      <th>0</th>\n",
       "      <td>MainScreenAppear</td>\n",
       "      <td>4575588528974610257</td>\n",
       "      <td>2019-07-25 04:43:36</td>\n",
       "      <td>246</td>\n",
       "      <td>2019-07-25</td>\n",
       "    </tr>\n",
       "    <tr>\n",
       "      <th>1</th>\n",
       "      <td>MainScreenAppear</td>\n",
       "      <td>7416695313311560658</td>\n",
       "      <td>2019-07-25 11:11:42</td>\n",
       "      <td>246</td>\n",
       "      <td>2019-07-25</td>\n",
       "    </tr>\n",
       "    <tr>\n",
       "      <th>2</th>\n",
       "      <td>PaymentScreenSuccessful</td>\n",
       "      <td>3518123091307005509</td>\n",
       "      <td>2019-07-25 11:28:47</td>\n",
       "      <td>248</td>\n",
       "      <td>2019-07-25</td>\n",
       "    </tr>\n",
       "  </tbody>\n",
       "</table>\n",
       "</div>"
      ],
      "text/plain": [
       "                    events              user_id          event_time  group  \\\n",
       "0         MainScreenAppear  4575588528974610257 2019-07-25 04:43:36    246   \n",
       "1         MainScreenAppear  7416695313311560658 2019-07-25 11:11:42    246   \n",
       "2  PaymentScreenSuccessful  3518123091307005509 2019-07-25 11:28:47    248   \n",
       "\n",
       "  event_date  \n",
       "0 2019-07-25  \n",
       "1 2019-07-25  \n",
       "2 2019-07-25  "
      ]
     },
     "execution_count": 7,
     "metadata": {},
     "output_type": "execute_result"
    }
   ],
   "source": [
    "logs_exp.head(3)"
   ]
  },
  {
   "cell_type": "code",
   "execution_count": 8,
   "metadata": {},
   "outputs": [
    {
     "data": {
      "text/html": [
       "<div>\n",
       "<style scoped>\n",
       "    .dataframe tbody tr th:only-of-type {\n",
       "        vertical-align: middle;\n",
       "    }\n",
       "\n",
       "    .dataframe tbody tr th {\n",
       "        vertical-align: top;\n",
       "    }\n",
       "\n",
       "    .dataframe thead th {\n",
       "        text-align: right;\n",
       "    }\n",
       "</style>\n",
       "<table border=\"1\" class=\"dataframe\">\n",
       "  <thead>\n",
       "    <tr style=\"text-align: right;\">\n",
       "      <th></th>\n",
       "      <th>events</th>\n",
       "      <th>user_id</th>\n",
       "      <th>event_time</th>\n",
       "      <th>group</th>\n",
       "      <th>event_date</th>\n",
       "    </tr>\n",
       "  </thead>\n",
       "  <tbody>\n",
       "    <tr>\n",
       "      <th>0</th>\n",
       "      <td>Main Screen</td>\n",
       "      <td>4575588528974610257</td>\n",
       "      <td>2019-07-25 04:43:36</td>\n",
       "      <td>A1</td>\n",
       "      <td>2019-07-25</td>\n",
       "    </tr>\n",
       "    <tr>\n",
       "      <th>1</th>\n",
       "      <td>Main Screen</td>\n",
       "      <td>7416695313311560658</td>\n",
       "      <td>2019-07-25 11:11:42</td>\n",
       "      <td>A1</td>\n",
       "      <td>2019-07-25</td>\n",
       "    </tr>\n",
       "    <tr>\n",
       "      <th>2</th>\n",
       "      <td>Payment Successful</td>\n",
       "      <td>3518123091307005509</td>\n",
       "      <td>2019-07-25 11:28:47</td>\n",
       "      <td>B</td>\n",
       "      <td>2019-07-25</td>\n",
       "    </tr>\n",
       "  </tbody>\n",
       "</table>\n",
       "</div>"
      ],
      "text/plain": [
       "               events              user_id          event_time group  \\\n",
       "0         Main Screen  4575588528974610257 2019-07-25 04:43:36    A1   \n",
       "1         Main Screen  7416695313311560658 2019-07-25 11:11:42    A1   \n",
       "2  Payment Successful  3518123091307005509 2019-07-25 11:28:47     B   \n",
       "\n",
       "  event_date  \n",
       "0 2019-07-25  \n",
       "1 2019-07-25  \n",
       "2 2019-07-25  "
      ]
     },
     "execution_count": 8,
     "metadata": {},
     "output_type": "execute_result"
    }
   ],
   "source": [
    "#заменим наименования событий, а также обозначим группы\n",
    "logs_exp['events'] = logs_exp['events'].replace({'MainScreenAppear':'Main Screen', \n",
    "                                                 'PaymentScreenSuccessful':'Payment Successful', \n",
    "                                                 'OffersScreenAppear':'Offers Screen', 'CartScreenAppear':'Cart Screen'})\n",
    "logs_exp['group'] = logs_exp['group'].replace({246:'A1', 247:'A2', 248:'B'})\n",
    "logs_exp.head(3)"
   ]
  },
  {
   "cell_type": "code",
   "execution_count": 9,
   "metadata": {},
   "outputs": [
    {
     "data": {
      "text/plain": [
       "413"
      ]
     },
     "metadata": {},
     "output_type": "display_data"
    },
    {
     "data": {
      "text/plain": [
       "0"
      ]
     },
     "metadata": {},
     "output_type": "display_data"
    }
   ],
   "source": [
    "#проверим наличие дубликатов в данных\n",
    "\n",
    "display(logs_exp.duplicated().sum())\n",
    "\n",
    "#Удалим дубликаты\n",
    "logs_exp = logs_exp.drop_duplicates().reset_index(drop=True)\n",
    "\n",
    "display(logs_exp.duplicated().sum())"
   ]
  },
  {
   "cell_type": "markdown",
   "metadata": {},
   "source": [
    "#### Вывод  \n",
    "На этом шаге мы предобработали данные. Для нашего удобства переименовали столбцы, заменили наименования событий, а также обозначили группы. Значения в колонке даты и времени привели к типу *datetime*. В отдельный столбец выделили дату. В конце шага проверили наличие дубликатов. Обнаружили 413 штук. Их можно удалить, т.к. это менее 1% наших данных, что мы и сделали."
   ]
  },
  {
   "cell_type": "markdown",
   "metadata": {},
   "source": [
    "### Шаг 3. Анализ данных логов <a name=\"step3\"></a>"
   ]
  },
  {
   "cell_type": "code",
   "execution_count": 10,
   "metadata": {},
   "outputs": [
    {
     "name": "stdout",
     "output_type": "stream",
     "text": [
      "Всего событий в логе:  243713\n",
      " \n",
      "Всего пользователей в логе:  7551\n",
      " \n",
      "На каждого пользователя приходится в среднем : 32 события\n",
      " \n",
      "Медианное значение количества событий на пользователя : 20 событий\n",
      " \n"
     ]
    }
   ],
   "source": [
    "#Найдем сколько всего событий в логе\n",
    "count_events = logs_exp['events'].count()\n",
    "print('Всего событий в логе: ', count_events)\n",
    "print(' ')\n",
    "\n",
    "#Найдем сколько пользователей в логе\n",
    "count_users = logs_exp['user_id'].nunique()\n",
    "print('Всего пользователей в логе: ', count_users)\n",
    "print(' ')\n",
    "\n",
    "#Найдем сколько в среднем событий приходится на пользователя\n",
    "avg_events = count_events/count_users\n",
    "avg_events\n",
    "print('На каждого пользователя приходится в среднем :', int(avg_events), 'события')\n",
    "print(' ')\n",
    "\n",
    "median_users = logs_exp.groupby('user_id').agg({'events':'count'}).reset_index()\n",
    "print('Медианное значение количества событий на пользователя :', int(median_users['events'].median()), 'событий')\n",
    "print(' ')"
   ]
  },
  {
   "cell_type": "code",
   "execution_count": 11,
   "metadata": {},
   "outputs": [
    {
     "name": "stdout",
     "output_type": "stream",
     "text": [
      "Данные за: 14 дней\n",
      " \n",
      "Минимальная дата: 2019-07-25 00:00:00\n",
      "Максимальная дата: 2019-08-07 00:00:00\n"
     ]
    },
    {
     "data": {
      "image/png": "[encoded data removed]",
      "text/plain": [
       "<Figure size 432x288 with 1 Axes>"
      ]
     },
     "metadata": {
      "needs_background": "light"
     },
     "output_type": "display_data"
    }
   ],
   "source": [
    "#Найдем период данных, максимальную и минимальную даты\n",
    "period = logs_exp.pivot_table(index = 'event_date', values = 'events', aggfunc = 'count')\n",
    "print('Данные за:', len(period), 'дней')\n",
    "print(' ')\n",
    "\n",
    "min_date = logs_exp['event_date'].min()\n",
    "max_date = logs_exp['event_date'].max()\n",
    "print(\"Минимальная дата:\", min_date)\n",
    "print(\"Максимальная дата:\", max_date)\n",
    "#Построим гистограмму по дате и времени\n",
    "logs_exp['event_date'].hist(bins = 50)\n",
    "plt.xticks(rotation=90)\n",
    "plt.title(\"Количество событий в день\", fontsize=12)\n",
    "plt.xlabel(\"Дата события\")\n",
    "plt.ylabel(\"Количество, шт\")\n",
    "plt.show()"
   ]
  },
  {
   "cell_type": "code",
   "execution_count": 12,
   "metadata": {},
   "outputs": [
    {
     "name": "stdout",
     "output_type": "stream",
     "text": [
      "Осталось событий в логе:  240887\n",
      "Удалили:  2826\n",
      " \n",
      "Осталось пользователей в логе:  7534\n",
      "Удалили:  17\n",
      " \n",
      "На каждого пользователя приходится в среднем : 31 событие\n",
      " \n",
      "Медианное значение количества событий на пользователя : 19 событий\n",
      " \n"
     ]
    }
   ],
   "source": [
    "#отбросим старые данные\n",
    "event_logs = logs_exp[logs_exp['event_date'] > '2019-07-31'].reset_index(drop=True)\n",
    "\n",
    "cc_events = event_logs['events'].count()\n",
    "print('Осталось событий в логе: ', cc_events)\n",
    "print('Удалили: ', count_events - cc_events)\n",
    "print(' ')\n",
    "\n",
    "cc_users = event_logs['user_id'].nunique()\n",
    "print('Осталось пользователей в логе: ', cc_users)\n",
    "print('Удалили: ', count_users - cc_users)\n",
    "print(' ')\n",
    "\n",
    "avg_events_cor = cc_events/cc_users\n",
    "\n",
    "print('На каждого пользователя приходится в среднем :', int(avg_events_cor), 'событие')\n",
    "print(' ')\n",
    "\n",
    "median_users_cor = event_logs.groupby('user_id').agg({'events':'count'}).reset_index()\n",
    "print('Медианное значение количества событий на пользователя :', int(median_users_cor['events'].median()), 'событий')\n",
    "print(' ')"
   ]
  },
  {
   "cell_type": "code",
   "execution_count": 13,
   "metadata": {},
   "outputs": [
    {
     "data": {
      "text/html": [
       "<div>\n",
       "<style scoped>\n",
       "    .dataframe tbody tr th:only-of-type {\n",
       "        vertical-align: middle;\n",
       "    }\n",
       "\n",
       "    .dataframe tbody tr th {\n",
       "        vertical-align: top;\n",
       "    }\n",
       "\n",
       "    .dataframe thead th {\n",
       "        text-align: right;\n",
       "    }\n",
       "</style>\n",
       "<table border=\"1\" class=\"dataframe\">\n",
       "  <thead>\n",
       "    <tr style=\"text-align: right;\">\n",
       "      <th></th>\n",
       "      <th>events</th>\n",
       "      <th>A1</th>\n",
       "      <th>A2</th>\n",
       "      <th>B</th>\n",
       "    </tr>\n",
       "  </thead>\n",
       "  <tbody>\n",
       "    <tr>\n",
       "      <th>0</th>\n",
       "      <td>Cart Screen</td>\n",
       "      <td>1266</td>\n",
       "      <td>1238</td>\n",
       "      <td>1230</td>\n",
       "    </tr>\n",
       "    <tr>\n",
       "      <th>1</th>\n",
       "      <td>Main Screen</td>\n",
       "      <td>2450</td>\n",
       "      <td>2476</td>\n",
       "      <td>2493</td>\n",
       "    </tr>\n",
       "    <tr>\n",
       "      <th>2</th>\n",
       "      <td>Offers Screen</td>\n",
       "      <td>1542</td>\n",
       "      <td>1520</td>\n",
       "      <td>1531</td>\n",
       "    </tr>\n",
       "    <tr>\n",
       "      <th>3</th>\n",
       "      <td>Payment Successful</td>\n",
       "      <td>1200</td>\n",
       "      <td>1158</td>\n",
       "      <td>1181</td>\n",
       "    </tr>\n",
       "    <tr>\n",
       "      <th>4</th>\n",
       "      <td>Tutorial</td>\n",
       "      <td>278</td>\n",
       "      <td>283</td>\n",
       "      <td>279</td>\n",
       "    </tr>\n",
       "  </tbody>\n",
       "</table>\n",
       "</div>"
      ],
      "text/plain": [
       "               events    A1    A2     B\n",
       "0         Cart Screen  1266  1238  1230\n",
       "1         Main Screen  2450  2476  2493\n",
       "2       Offers Screen  1542  1520  1531\n",
       "3  Payment Successful  1200  1158  1181\n",
       "4            Tutorial   278   283   279"
      ]
     },
     "execution_count": 13,
     "metadata": {},
     "output_type": "execute_result"
    }
   ],
   "source": [
    "#Проверьте, что у вас есть пользователи из всех трёх экспериментальных групп.\n",
    "checking_groups = (event_logs.\n",
    "              pivot_table(index = 'events', \n",
    "                          columns = 'group', \n",
    "                          values = 'user_id', \n",
    "                          aggfunc = 'nunique')\n",
    "              .reset_index())\n",
    "checking_groups.columns = ['events', 'A1', 'A2', 'B']\n",
    "checking_groups"
   ]
  },
  {
   "cell_type": "markdown",
   "metadata": {},
   "source": [
    "#### Вывод  \n",
    "В наших данных было 243713 лога и 7551 пользователь. Мы определили, что у нас имеются данные за 14 дней. Построили гистограмму по дате и увидели неполноту данных: в первую неделю событий было очень мало и только с 01-08-2019 количество событий резко увеличилось. Для дальнейшей работы, мы определили новый период - 7 дней с 01-08-2019 по 07-08-2019. В нашем новом периоде осталось 241298 логов и 7534 пользователя из всех трёх групп."
   ]
  },
  {
   "cell_type": "markdown",
   "metadata": {},
   "source": [
    "### Шаг 4. Анализ воронки событий <a name=\"step4\"></a>"
   ]
  },
  {
   "cell_type": "code",
   "execution_count": 14,
   "metadata": {},
   "outputs": [
    {
     "data": {
      "text/html": [
       "<div>\n",
       "<style scoped>\n",
       "    .dataframe tbody tr th:only-of-type {\n",
       "        vertical-align: middle;\n",
       "    }\n",
       "\n",
       "    .dataframe tbody tr th {\n",
       "        vertical-align: top;\n",
       "    }\n",
       "\n",
       "    .dataframe thead th {\n",
       "        text-align: right;\n",
       "    }\n",
       "</style>\n",
       "<table border=\"1\" class=\"dataframe\">\n",
       "  <thead>\n",
       "    <tr style=\"text-align: right;\">\n",
       "      <th></th>\n",
       "      <th>events</th>\n",
       "      <th>user_id</th>\n",
       "    </tr>\n",
       "  </thead>\n",
       "  <tbody>\n",
       "    <tr>\n",
       "      <th>0</th>\n",
       "      <td>Main Screen</td>\n",
       "      <td>117328</td>\n",
       "    </tr>\n",
       "    <tr>\n",
       "      <th>1</th>\n",
       "      <td>Offers Screen</td>\n",
       "      <td>46333</td>\n",
       "    </tr>\n",
       "    <tr>\n",
       "      <th>2</th>\n",
       "      <td>Cart Screen</td>\n",
       "      <td>42303</td>\n",
       "    </tr>\n",
       "    <tr>\n",
       "      <th>3</th>\n",
       "      <td>Payment Successful</td>\n",
       "      <td>33918</td>\n",
       "    </tr>\n",
       "    <tr>\n",
       "      <th>4</th>\n",
       "      <td>Tutorial</td>\n",
       "      <td>1005</td>\n",
       "    </tr>\n",
       "  </tbody>\n",
       "</table>\n",
       "</div>"
      ],
      "text/plain": [
       "               events  user_id\n",
       "0         Main Screen   117328\n",
       "1       Offers Screen    46333\n",
       "2         Cart Screen    42303\n",
       "3  Payment Successful    33918\n",
       "4            Tutorial     1005"
      ]
     },
     "execution_count": 14,
     "metadata": {},
     "output_type": "execute_result"
    }
   ],
   "source": [
    "#определим какие события есть в логах и отсортируем их по частоте.\n",
    "users_events = (event_logs\n",
    "                .groupby('events')\n",
    "                .agg({'user_id': 'count'})\n",
    "                .sort_values(by = 'user_id', ascending = False)\n",
    "                .reset_index())\n",
    "users_events"
   ]
  },
  {
   "cell_type": "code",
   "execution_count": 15,
   "metadata": {},
   "outputs": [
    {
     "data": {
      "text/html": [
       "<div>\n",
       "<style scoped>\n",
       "    .dataframe tbody tr th:only-of-type {\n",
       "        vertical-align: middle;\n",
       "    }\n",
       "\n",
       "    .dataframe tbody tr th {\n",
       "        vertical-align: top;\n",
       "    }\n",
       "\n",
       "    .dataframe thead th {\n",
       "        text-align: right;\n",
       "    }\n",
       "</style>\n",
       "<table border=\"1\" class=\"dataframe\">\n",
       "  <thead>\n",
       "    <tr style=\"text-align: right;\">\n",
       "      <th></th>\n",
       "      <th>events</th>\n",
       "      <th>user_id</th>\n",
       "      <th>part, %</th>\n",
       "    </tr>\n",
       "  </thead>\n",
       "  <tbody>\n",
       "    <tr>\n",
       "      <th>0</th>\n",
       "      <td>Main Screen</td>\n",
       "      <td>7419</td>\n",
       "      <td>98.5</td>\n",
       "    </tr>\n",
       "    <tr>\n",
       "      <th>1</th>\n",
       "      <td>Offers Screen</td>\n",
       "      <td>4593</td>\n",
       "      <td>61.0</td>\n",
       "    </tr>\n",
       "    <tr>\n",
       "      <th>2</th>\n",
       "      <td>Cart Screen</td>\n",
       "      <td>3734</td>\n",
       "      <td>49.6</td>\n",
       "    </tr>\n",
       "    <tr>\n",
       "      <th>3</th>\n",
       "      <td>Payment Successful</td>\n",
       "      <td>3539</td>\n",
       "      <td>47.0</td>\n",
       "    </tr>\n",
       "    <tr>\n",
       "      <th>4</th>\n",
       "      <td>Tutorial</td>\n",
       "      <td>840</td>\n",
       "      <td>11.1</td>\n",
       "    </tr>\n",
       "  </tbody>\n",
       "</table>\n",
       "</div>"
      ],
      "text/plain": [
       "               events  user_id  part, %\n",
       "0         Main Screen     7419     98.5\n",
       "1       Offers Screen     4593     61.0\n",
       "2         Cart Screen     3734     49.6\n",
       "3  Payment Successful     3539     47.0\n",
       "4            Tutorial      840     11.1"
      ]
     },
     "execution_count": 15,
     "metadata": {},
     "output_type": "execute_result"
    }
   ],
   "source": [
    "# Посчитаем, сколько пользователей совершали события и найдем долю пользователей, которые хоть раз совершали событие.\n",
    "\n",
    "uniq_users_event = (event_logs.groupby('events')\n",
    "                    .agg({'user_id': 'nunique'})\n",
    "                    .sort_values(by = 'user_id', ascending = False)\n",
    "                    .reset_index())\n",
    "\n",
    "uniq_users_event['part, %'] = (uniq_users_event['user_id']/cc_users*100).round(1)\n",
    "\n",
    "uniq_users_event"
   ]
  },
  {
   "cell_type": "markdown",
   "metadata": {},
   "source": [
    "Основываясь на названиях событий и количестве уникальных пользователей, совершивших это событие, предположим, что события происходят в следующем порядке: **Main Screen -> Offers Screen -> Cart Screen -> Payment Successful**. У нас остается одно событие **Tutorial**, которое может произойти в любом порядке: пользователь может в любой момент обратиться за справкой в приложении - при входе в приложение, при оформлении заказа или оплаты. При этом мы видим, что всего 11% пользователей используют это событие, поэтому **Tutorial** мы можем не учитывать при дальнейшем расчёте воронки. Стоит обратить внимание на долю пользователей зашедших на главный экран: 98,5%, вместо ожидаемых 100%. Если учесть, что в мобильном приложении невозможно пропустить главную страницу, то можем предположить почему это произошло: при записи лога на сервер произошла проблема с соединением и как только сеть появилась, записалось текущее событие и уже после подгрузились предыдущие, а также с определением нашего нового периода данных."
   ]
  },
  {
   "cell_type": "code",
   "execution_count": 16,
   "metadata": {},
   "outputs": [
    {
     "data": {
      "text/html": [
       "<div>\n",
       "<style scoped>\n",
       "    .dataframe tbody tr th:only-of-type {\n",
       "        vertical-align: middle;\n",
       "    }\n",
       "\n",
       "    .dataframe tbody tr th {\n",
       "        vertical-align: top;\n",
       "    }\n",
       "\n",
       "    .dataframe thead th {\n",
       "        text-align: right;\n",
       "    }\n",
       "</style>\n",
       "<table border=\"1\" class=\"dataframe\">\n",
       "  <thead>\n",
       "    <tr style=\"text-align: right;\">\n",
       "      <th></th>\n",
       "      <th>events</th>\n",
       "      <th>user_id</th>\n",
       "      <th>step_conversion</th>\n",
       "      <th>full_conversion</th>\n",
       "    </tr>\n",
       "  </thead>\n",
       "  <tbody>\n",
       "    <tr>\n",
       "      <th>0</th>\n",
       "      <td>Main Screen</td>\n",
       "      <td>7419</td>\n",
       "      <td>98.5</td>\n",
       "      <td>98.5</td>\n",
       "    </tr>\n",
       "    <tr>\n",
       "      <th>1</th>\n",
       "      <td>Offers Screen</td>\n",
       "      <td>4593</td>\n",
       "      <td>61.9</td>\n",
       "      <td>61.0</td>\n",
       "    </tr>\n",
       "    <tr>\n",
       "      <th>2</th>\n",
       "      <td>Cart Screen</td>\n",
       "      <td>3734</td>\n",
       "      <td>81.3</td>\n",
       "      <td>49.6</td>\n",
       "    </tr>\n",
       "    <tr>\n",
       "      <th>3</th>\n",
       "      <td>Payment Successful</td>\n",
       "      <td>3539</td>\n",
       "      <td>94.8</td>\n",
       "      <td>47.0</td>\n",
       "    </tr>\n",
       "  </tbody>\n",
       "</table>\n",
       "</div>"
      ],
      "text/plain": [
       "               events  user_id  step_conversion  full_conversion\n",
       "0         Main Screen     7419             98.5             98.5\n",
       "1       Offers Screen     4593             61.9             61.0\n",
       "2         Cart Screen     3734             81.3             49.6\n",
       "3  Payment Successful     3539             94.8             47.0"
      ]
     },
     "execution_count": 16,
     "metadata": {},
     "output_type": "execute_result"
    }
   ],
   "source": [
    "#отбросим лишнее событие\n",
    "new_event_logs = event_logs.query('events != \"Tutorial\"').reset_index(drop=True)\n",
    "\n",
    "#Расчитаем воронку событий и определим какая доля пользователей проходит на следующий шаг воронки\n",
    "\n",
    "funnel = (new_event_logs.groupby('events')\n",
    "                    .agg({'user_id': 'nunique'})\n",
    "                    .sort_values(by = 'user_id', ascending = False)\n",
    "                    .reset_index())\n",
    "\n",
    "funnel.loc[0,'step_conversion'] = (funnel.loc[0,'user_id']/cc_users*100).round(1)\n",
    "for i in range(3):\n",
    "    funnel.loc[(i+1),'step_conversion'] = (funnel.loc[(i+1), 'user_id']/funnel.loc[i, 'user_id']*100).round(1)\n",
    "funnel['full_conversion'] = (funnel['user_id']/cc_users*100).round(1)\n",
    "funnel"
   ]
  },
  {
   "cell_type": "code",
   "execution_count": 17,
   "metadata": {},
   "outputs": [
    {
     "ename": "ModuleNotFoundError",
     "evalue": "No module named 'plotly'",
     "output_type": "error",
     "traceback": [
      "\u001b[1;31m---------------------------------------------------------------------------\u001b[0m",
      "\u001b[1;31mModuleNotFoundError\u001b[0m                       Traceback (most recent call last)",
      "\u001b[1;32m<ipython-input-17-d9fd917e92a3>\u001b[0m in \u001b[0;36m<module>\u001b[1;34m\u001b[0m\n\u001b[1;32m----> 1\u001b[1;33m \u001b[1;32mfrom\u001b[0m \u001b[0mplotly\u001b[0m \u001b[1;32mimport\u001b[0m \u001b[0mgraph_objects\u001b[0m \u001b[1;32mas\u001b[0m \u001b[0mgo\u001b[0m\u001b[1;33m\u001b[0m\u001b[1;33m\u001b[0m\u001b[0m\n\u001b[0m\u001b[0;32m      2\u001b[0m fig = go.Figure(go.Funnel(\n\u001b[0;32m      3\u001b[0m     \u001b[0my\u001b[0m \u001b[1;33m=\u001b[0m \u001b[0mfunnel\u001b[0m\u001b[1;33m[\u001b[0m\u001b[1;34m'events'\u001b[0m\u001b[1;33m]\u001b[0m\u001b[1;33m,\u001b[0m \u001b[0mx\u001b[0m \u001b[1;33m=\u001b[0m \u001b[0mfunnel\u001b[0m\u001b[1;33m[\u001b[0m\u001b[1;34m'user_id'\u001b[0m\u001b[1;33m]\u001b[0m\u001b[1;33m,\u001b[0m\u001b[1;33m\u001b[0m\u001b[1;33m\u001b[0m\u001b[0m\n\u001b[0;32m      4\u001b[0m     \u001b[0mtextposition\u001b[0m \u001b[1;33m=\u001b[0m \u001b[1;34m\"inside\"\u001b[0m\u001b[1;33m,\u001b[0m \u001b[0mtextinfo\u001b[0m \u001b[1;33m=\u001b[0m \u001b[1;34m\"value+percent initial\"\u001b[0m\u001b[1;33m,\u001b[0m\u001b[1;33m\u001b[0m\u001b[1;33m\u001b[0m\u001b[0m\n\u001b[0;32m      5\u001b[0m     \u001b[0mopacity\u001b[0m \u001b[1;33m=\u001b[0m \u001b[1;36m0.55\u001b[0m\u001b[1;33m,\u001b[0m \u001b[0mmarker\u001b[0m \u001b[1;33m=\u001b[0m \u001b[1;33m{\u001b[0m\u001b[1;34m\"color\"\u001b[0m\u001b[1;33m:\u001b[0m \u001b[1;33m[\u001b[0m\u001b[1;34m\"deepskyblue\"\u001b[0m\u001b[1;33m,\u001b[0m \u001b[1;34m\"lightsalmon\"\u001b[0m\u001b[1;33m,\u001b[0m \u001b[1;34m\"tan\"\u001b[0m\u001b[1;33m,\u001b[0m \u001b[1;34m\"teal\"\u001b[0m\u001b[1;33m,\u001b[0m \u001b[1;34m\"silver\"\u001b[0m\u001b[1;33m]\u001b[0m\u001b[1;33m}\u001b[0m\u001b[1;33m,\u001b[0m\u001b[1;33m\u001b[0m\u001b[1;33m\u001b[0m\u001b[0m\n",
      "\u001b[1;31mModuleNotFoundError\u001b[0m: No module named 'plotly'"
     ]
    }
   ],
   "source": [
    "from plotly import graph_objects as go\n",
    "fig = go.Figure(go.Funnel(\n",
    "    y = funnel['events'], x = funnel['user_id'],\n",
    "    textposition = \"inside\", textinfo = \"value+percent initial\", \n",
    "    opacity = 0.55, marker = {\"color\": [\"deepskyblue\", \"lightsalmon\", \"tan\", \"teal\", \"silver\"]},\n",
    "    connector = {\"line\": {\"color\": \"royalblue\", \"dash\": \"dot\", \"width\": 3}}))\n",
    "fig.update_layout(title=\"Воронка событий (кол-во пользователей на каждом шаге)\")\n",
    "fig.show()"
   ]
  },
  {
   "cell_type": "code",
   "execution_count": 18,
   "metadata": {},
   "outputs": [
    {
     "data": {
      "text/html": [
       "<div>\n",
       "<style scoped>\n",
       "    .dataframe tbody tr th:only-of-type {\n",
       "        vertical-align: middle;\n",
       "    }\n",
       "\n",
       "    .dataframe tbody tr th {\n",
       "        vertical-align: top;\n",
       "    }\n",
       "\n",
       "    .dataframe thead th {\n",
       "        text-align: right;\n",
       "    }\n",
       "</style>\n",
       "<table border=\"1\" class=\"dataframe\">\n",
       "  <thead>\n",
       "    <tr style=\"text-align: right;\">\n",
       "      <th></th>\n",
       "      <th>events</th>\n",
       "      <th>user_id</th>\n",
       "      <th>step_conversion</th>\n",
       "      <th>full_conversion</th>\n",
       "      <th>users_lost</th>\n",
       "    </tr>\n",
       "  </thead>\n",
       "  <tbody>\n",
       "    <tr>\n",
       "      <th>0</th>\n",
       "      <td>Main Screen</td>\n",
       "      <td>7419</td>\n",
       "      <td>98.5</td>\n",
       "      <td>98.5</td>\n",
       "      <td>115.0</td>\n",
       "    </tr>\n",
       "    <tr>\n",
       "      <th>1</th>\n",
       "      <td>Offers Screen</td>\n",
       "      <td>4593</td>\n",
       "      <td>61.9</td>\n",
       "      <td>61.0</td>\n",
       "      <td>2826.0</td>\n",
       "    </tr>\n",
       "    <tr>\n",
       "      <th>2</th>\n",
       "      <td>Cart Screen</td>\n",
       "      <td>3734</td>\n",
       "      <td>81.3</td>\n",
       "      <td>49.6</td>\n",
       "      <td>859.0</td>\n",
       "    </tr>\n",
       "    <tr>\n",
       "      <th>3</th>\n",
       "      <td>Payment Successful</td>\n",
       "      <td>3539</td>\n",
       "      <td>94.8</td>\n",
       "      <td>47.0</td>\n",
       "      <td>195.0</td>\n",
       "    </tr>\n",
       "  </tbody>\n",
       "</table>\n",
       "</div>"
      ],
      "text/plain": [
       "               events  user_id  step_conversion  full_conversion  users_lost\n",
       "0         Main Screen     7419             98.5             98.5       115.0\n",
       "1       Offers Screen     4593             61.9             61.0      2826.0\n",
       "2         Cart Screen     3734             81.3             49.6       859.0\n",
       "3  Payment Successful     3539             94.8             47.0       195.0"
      ]
     },
     "execution_count": 18,
     "metadata": {},
     "output_type": "execute_result"
    }
   ],
   "source": [
    "#На каком шаге теряете больше всего пользователей?\n",
    "funnel.loc[0,'users_lost'] = (cc_users - funnel.loc[0,'user_id'])\n",
    "for i in range(3):\n",
    "    funnel.loc[(i+1),'users_lost'] = (funnel.loc[i, 'user_id'] - funnel.loc[(i+1), 'user_id'])\n",
    "funnel"
   ]
  },
  {
   "cell_type": "markdown",
   "metadata": {},
   "source": [
    "По полученной таблице видим, что большинство пользователей теряется при переходе с **Main Screen -> Offers Screen** "
   ]
  },
  {
   "cell_type": "code",
   "execution_count": 19,
   "metadata": {},
   "outputs": [
    {
     "name": "stdout",
     "output_type": "stream",
     "text": [
      "\n",
      "47.7 % пользователей доходит от первого события до оплаты.\n"
     ]
    }
   ],
   "source": [
    "#Какая доля пользователей доходит от первого события до оплаты?\n",
    "\n",
    "the_end = (funnel.loc[3, 'user_id']/funnel.loc[0, 'user_id']*100).round(1)\n",
    "print( )\n",
    "print(the_end, '% пользователей доходит от первого события до оплаты.')"
   ]
  },
  {
   "cell_type": "markdown",
   "metadata": {},
   "source": [
    "#### Вывод  \n",
    "  \n",
    "На шаге анализа воронки событий мы:  \n",
    " 1. Определили, какие события есть в логах, как часто они встречаются\n",
    " 2. Посчитали, сколько пользователей совершали каждое из этих событий и нашли долю пользователей, которые хоть раз совершали событие\n",
    " 3. Предположили порядок событий и отсекли выбивыющееся из порядка событие **Tutorial**\n",
    " 4. По воронке событий посчитали, какая доля пользователей проходит на следующий шаг воронки\n",
    " 5. Определили, что на шаге **Main Screen -> Offers Screen**  теряется больше всего пользователей\n",
    " 6. Определили, что 47,7% пользователей доходит от первого события до оплаты."
   ]
  },
  {
   "cell_type": "markdown",
   "metadata": {},
   "source": [
    "### Шаг 5. Анализ результатов эксперимента <a name=\"step5\"></a>"
   ]
  },
  {
   "cell_type": "code",
   "execution_count": 20,
   "metadata": {},
   "outputs": [
    {
     "data": {
      "text/html": [
       "<div>\n",
       "<style scoped>\n",
       "    .dataframe tbody tr th:only-of-type {\n",
       "        vertical-align: middle;\n",
       "    }\n",
       "\n",
       "    .dataframe tbody tr th {\n",
       "        vertical-align: top;\n",
       "    }\n",
       "\n",
       "    .dataframe thead th {\n",
       "        text-align: right;\n",
       "    }\n",
       "</style>\n",
       "<table border=\"1\" class=\"dataframe\">\n",
       "  <thead>\n",
       "    <tr style=\"text-align: right;\">\n",
       "      <th></th>\n",
       "      <th>A1</th>\n",
       "      <th>A2</th>\n",
       "      <th>B</th>\n",
       "    </tr>\n",
       "  </thead>\n",
       "  <tbody>\n",
       "    <tr>\n",
       "      <th>1</th>\n",
       "      <td>2483</td>\n",
       "      <td>2512</td>\n",
       "      <td>2535</td>\n",
       "    </tr>\n",
       "  </tbody>\n",
       "</table>\n",
       "</div>"
      ],
      "text/plain": [
       "     A1    A2     B\n",
       "1  2483  2512  2535"
      ]
     },
     "execution_count": 20,
     "metadata": {},
     "output_type": "execute_result"
    }
   ],
   "source": [
    "#Найдем сколько пользователей в каждой экспериментальной группе\n",
    "users_group = (new_event_logs.\n",
    "               pivot_table(columns = 'group', \n",
    "                           values = 'user_id', \n",
    "                           aggfunc = 'nunique')\n",
    "               .reset_index(drop = True))\n",
    "users_group.drop([0], inplace=True)\n",
    "users_group.columns = ['A1', 'A2', 'B']\n",
    "users_group"
   ]
  },
  {
   "cell_type": "code",
   "execution_count": 21,
   "metadata": {},
   "outputs": [
    {
     "data": {
      "text/html": [
       "<div>\n",
       "<style scoped>\n",
       "    .dataframe tbody tr th:only-of-type {\n",
       "        vertical-align: middle;\n",
       "    }\n",
       "\n",
       "    .dataframe tbody tr th {\n",
       "        vertical-align: top;\n",
       "    }\n",
       "\n",
       "    .dataframe thead th {\n",
       "        text-align: right;\n",
       "    }\n",
       "</style>\n",
       "<table border=\"1\" class=\"dataframe\">\n",
       "  <thead>\n",
       "    <tr style=\"text-align: right;\">\n",
       "      <th></th>\n",
       "      <th>events</th>\n",
       "      <th>A1</th>\n",
       "      <th>A2</th>\n",
       "      <th>B</th>\n",
       "    </tr>\n",
       "  </thead>\n",
       "  <tbody>\n",
       "    <tr>\n",
       "      <th>0</th>\n",
       "      <td>Main Screen</td>\n",
       "      <td>2450</td>\n",
       "      <td>2476</td>\n",
       "      <td>2493</td>\n",
       "    </tr>\n",
       "    <tr>\n",
       "      <th>1</th>\n",
       "      <td>Offers Screen</td>\n",
       "      <td>1542</td>\n",
       "      <td>1520</td>\n",
       "      <td>1531</td>\n",
       "    </tr>\n",
       "    <tr>\n",
       "      <th>2</th>\n",
       "      <td>Cart Screen</td>\n",
       "      <td>1266</td>\n",
       "      <td>1238</td>\n",
       "      <td>1230</td>\n",
       "    </tr>\n",
       "    <tr>\n",
       "      <th>3</th>\n",
       "      <td>Payment Successful</td>\n",
       "      <td>1200</td>\n",
       "      <td>1158</td>\n",
       "      <td>1181</td>\n",
       "    </tr>\n",
       "  </tbody>\n",
       "</table>\n",
       "</div>"
      ],
      "text/plain": [
       "               events    A1    A2     B\n",
       "0         Main Screen  2450  2476  2493\n",
       "1       Offers Screen  1542  1520  1531\n",
       "2         Cart Screen  1266  1238  1230\n",
       "3  Payment Successful  1200  1158  1181"
      ]
     },
     "execution_count": 21,
     "metadata": {},
     "output_type": "execute_result"
    }
   ],
   "source": [
    "#построим воронку событий для каждой группы\n",
    "test_group = (new_event_logs.\n",
    "              pivot_table(index = 'events', \n",
    "                          columns = 'group', \n",
    "                          values = 'user_id', \n",
    "                          aggfunc = 'nunique')\n",
    "              .reset_index())\n",
    "\n",
    "test_group.columns = ['events', 'A1', 'A2', 'B']\n",
    "test_group = test_group.sort_values('A1', ascending = False).reset_index(drop = True)\n",
    "test_group"
   ]
  },
  {
   "cell_type": "markdown",
   "metadata": {},
   "source": [
    "У нас есть 2 контрольные группы для А/А-эксперимента, чтобы проверить корректность всех механизмов и расчётов. Необходимо проверить находят ли статистические критерии разницу между выборками A1 и A2. Для этого воспользуемся Z-критерием:"
   ]
  },
  {
   "cell_type": "markdown",
   "metadata": {},
   "source": [
    "$$Z = \\frac{(P_1 - P_2) - (\\pi_1-\\pi_2)}{\\sqrt{P(1-P)(1/n_1 + 1/n_2)}}$$  \n",
    "В формуле $n_1$ и $n_2$ — размеры двух сравниваемых выборок; $P_1$, $P_2$ — пропорции, наблюдаемые в выборках; $P$ — пропорция в выборке, скомбинированной из двух наблюдаемых; $\\pi_1$, $\\pi_2$ — настоящие пропорции в сравниваемых генеральных совокупностях. При верной нулевой гипотезе выражение $(\\pi_1 - \\pi_2)$ в числителе будет равно нулю, и критерий рассчитывается только по выборочным данным."
   ]
  },
  {
   "cell_type": "code",
   "execution_count": 22,
   "metadata": {},
   "outputs": [],
   "source": [
    "#Проверим, находят ли статистические критерии разницу между выборками A1 и A2\n",
    "\n",
    "alpha = 0.05 # критический уровень статистической значимости\n",
    "\n",
    "successes = np.array([test_group.loc[3,'A1'], test_group.loc[3,'A2']])#пользователи, дошедшие до оплаты \n",
    "trials = np.array([users_group.loc[1,'A1'], users_group.loc[1,'A2']])#всего пользователей в группах\n",
    "\n",
    "# пропорция успехов в первой группе и во второй группе:\n",
    "p1 = successes[0]/trials[0]\n",
    "p2 = successes[1]/trials[1]\n",
    "\n",
    "# пропорция успехов в комбинированном датасете:\n",
    "p_combined = (successes[0] + successes[1]) / (trials[0] + trials[1])\n",
    "\n",
    "# разница пропорций\n",
    "difference = p1 - p2\n",
    "\n",
    "# считаем статистику \n",
    "z_value = difference / mth.sqrt(p_combined * (1 - p_combined) * (1/trials[0] + 1/trials[1]))\n",
    "\n",
    "# зададим стандартное нормальное распределение (среднее 0, ст.отклонение 1)\n",
    "distr = st.norm(0, 1)"
   ]
  },
  {
   "cell_type": "markdown",
   "metadata": {},
   "source": [
    "Проверим гипотезу:\n",
    "  - Имеется ли статистически значимое различие между долями двух групп А1 и А2;\n",
    "\n",
    "Сформулируем нулевую гипотезу H₀: Различия между долями нет, они равны. Поскольку H₀ всегда формулируется так, чтобы использовать знак равенства. Исходя из H₀ сформулируем альтернативную гипотезу H₁: Различия между долями есть, они разные.\n"
   ]
  },
  {
   "cell_type": "code",
   "execution_count": 23,
   "metadata": {},
   "outputs": [
    {
     "name": "stdout",
     "output_type": "stream",
     "text": [
      "p-значение:  0.11446627829276612\n",
      "\n",
      "Не получилось отвергнуть нулевую гипотезу, нет оснований считать доли разными\n"
     ]
    }
   ],
   "source": [
    "p_value = (1 - distr.cdf(abs(z_value))) * 2\n",
    "\n",
    "print('p-значение: ', p_value)\n",
    "print()\n",
    "\n",
    "if (p_value < alpha):\n",
    "    print(\"Отвергаем нулевую гипотезу: между долями есть значимая разница\")\n",
    "else:\n",
    "    print(\"Не получилось отвергнуть нулевую гипотезу, нет оснований считать доли разными\")"
   ]
  },
  {
   "cell_type": "markdown",
   "metadata": {},
   "source": [
    "Поскольку мы провели одно сравнение, то значение уровня статистической значимости $\\alpha = 0,05$ нам достаточно.\n",
    "Далее нам необходимо провести проверку различия долей между другими группами, т.е нам нужно провести несколько сравнений. Мы должны учесть увеличение вероятности ошибок первого и второго родов. Воспользуемся методом Шидака, тогда скорректированное значение требуемого уровня значимости рассчитывается по формуле: $$\\alpha = 1 - (1-\\alpha)^1/m$$, где $m$ - количество сравнений. В нашем случае оно равно 16, т.к: у нас 4 события и 4 пары групп (*А1:А2, А1:В, А2:В, А1+А2:В*)"
   ]
  },
  {
   "cell_type": "code",
   "execution_count": 24,
   "metadata": {},
   "outputs": [
    {
     "data": {
      "text/plain": [
       "0.0032006977101884937"
      ]
     },
     "execution_count": 24,
     "metadata": {},
     "output_type": "execute_result"
    }
   ],
   "source": [
    "#cкорректированное значение уровня значимости\n",
    "\n",
    "sh_alpha = 1 - (1 - alpha)**(1/16)\n",
    "sh_alpha"
   ]
  },
  {
   "cell_type": "code",
   "execution_count": 25,
   "metadata": {},
   "outputs": [],
   "source": [
    "#добавим в данные группу A1+A2\n",
    "test_group['A1+A2'] = test_group['A1'] + test_group['A2']\n",
    "users_group['A1+A2'] = users_group['A1'] + users_group['A2']"
   ]
  },
  {
   "cell_type": "code",
   "execution_count": 26,
   "metadata": {},
   "outputs": [],
   "source": [
    "#составим фукцию проверки статистической достоверности для каждого события с помощью Z-критерия\n",
    "\n",
    "def proverka_gipotez(X,Y):\n",
    "    for i in range(4):\n",
    "        print(\"Проверим статистическую достоверность по событию:\", test_group.loc[i,'events'])\n",
    "        successes = np.array([test_group.loc[i,X], test_group.loc[i,Y]])\n",
    "        trials = np.array([users_group.loc[1,X], users_group.loc[1,Y]])\n",
    "        p1 = successes[0]/trials[0]\n",
    "        p2 = successes[1]/trials[1]\n",
    "        p_combined = (successes[0] + successes[1]) / (trials[0] + trials[1])\n",
    "        difference = p1 - p2\n",
    "        z_value = difference / mth.sqrt(p_combined * (1 - p_combined) * (1/trials[0] + 1/trials[1]))\n",
    "        distr = st.norm(0, 1)\n",
    "        p_value = (1 - distr.cdf(abs(z_value))) * 2\n",
    "        print('p-значение: ', p_value)\n",
    "        if (p_value < sh_alpha):\n",
    "            print(\"Отвергаем нулевую гипотезу: между долями есть значимая разница\")\n",
    "        else:\n",
    "            print(\"Не получилось отвергнуть нулевую гипотезу, нет оснований считать доли разными\")\n",
    "        print()"
   ]
  },
  {
   "cell_type": "markdown",
   "metadata": {},
   "source": [
    "Теперь мы проверяем гипотезу каждой пары групп:  \n",
    "- Имеется ли статистически значимое различие между долями;\n",
    "\n",
    "Сформулируем нулевую гипотезу H₀: Различия между долями нет, они равны. Поскольку H₀ всегда формулируется так, чтобы использовать знак равенства. Исходя из H₀ сформулируем альтернативную гипотезу H₁: Различия между долями есть, они разные."
   ]
  },
  {
   "cell_type": "code",
   "execution_count": 27,
   "metadata": {
    "scrolled": false
   },
   "outputs": [
    {
     "name": "stdout",
     "output_type": "stream",
     "text": [
      "Сравним результат группы: A1 с группой: A2\n",
      "Проверим статистическую достоверность по событию: Main Screen\n",
      "p-значение:  0.7526703436483038\n",
      "Не получилось отвергнуть нулевую гипотезу, нет оснований считать доли разными\n",
      "\n",
      "Проверим статистическую достоверность по событию: Offers Screen\n",
      "p-значение:  0.24786096925282264\n",
      "Не получилось отвергнуть нулевую гипотезу, нет оснований считать доли разными\n",
      "\n",
      "Проверим статистическую достоверность по событию: Cart Screen\n",
      "p-значение:  0.22867643757335676\n",
      "Не получилось отвергнуть нулевую гипотезу, нет оснований считать доли разными\n",
      "\n",
      "Проверим статистическую достоверность по событию: Payment Successful\n",
      "p-значение:  0.11446627829276612\n",
      "Не получилось отвергнуть нулевую гипотезу, нет оснований считать доли разными\n",
      "\n",
      "_______________________________________________________________\n",
      "\n",
      "Сравним результат группы: A1 с группой: B\n",
      "Проверим статистическую достоверность по событию: Main Screen\n",
      "p-значение:  0.3387114076159288\n",
      "Не получилось отвергнуть нулевую гипотезу, нет оснований считать доли разными\n",
      "\n",
      "Проверим статистическую достоверность по событию: Offers Screen\n",
      "p-значение:  0.21442476639710506\n",
      "Не получилось отвергнуть нулевую гипотезу, нет оснований считать доли разными\n",
      "\n",
      "Проверим статистическую достоверность по событию: Cart Screen\n",
      "p-значение:  0.08067367598823139\n",
      "Не получилось отвергнуть нулевую гипотезу, нет оснований считать доли разными\n",
      "\n",
      "Проверим статистическую достоверность по событию: Payment Successful\n",
      "p-значение:  0.21693033984516674\n",
      "Не получилось отвергнуть нулевую гипотезу, нет оснований считать доли разными\n",
      "\n",
      "_______________________________________________________________\n",
      "\n",
      "Сравним результат группы: A2 с группой: B\n",
      "Проверим статистическую достоверность по событию: Main Screen\n",
      "p-значение:  0.5194964354051703\n",
      "Не получилось отвергнуть нулевую гипотезу, нет оснований считать доли разными\n",
      "\n",
      "Проверим статистическую достоверность по событию: Offers Screen\n",
      "p-значение:  0.9333751305879443\n",
      "Не получилось отвергнуть нулевую гипотезу, нет оснований считать доли разными\n",
      "\n",
      "Проверим статистическую достоверность по событию: Cart Screen\n",
      "p-значение:  0.5878284605111943\n",
      "Не получилось отвергнуть нулевую гипотезу, нет оснований считать доли разными\n",
      "\n",
      "Проверим статистическую достоверность по событию: Payment Successful\n",
      "p-значение:  0.7275718682261119\n",
      "Не получилось отвергнуть нулевую гипотезу, нет оснований считать доли разными\n",
      "\n",
      "_______________________________________________________________\n",
      "\n",
      "Сравним результат группы: A1+A2 с группой: B\n",
      "Проверим статистическую достоверность по событию: Main Screen\n",
      "p-значение:  0.3486684291093256\n",
      "Не получилось отвергнуть нулевую гипотезу, нет оснований считать доли разными\n",
      "\n",
      "Проверим статистическую достоверность по событию: Offers Screen\n",
      "p-значение:  0.44582745409482394\n",
      "Не получилось отвергнуть нулевую гипотезу, нет оснований считать доли разными\n",
      "\n",
      "Проверим статистическую достоверность по событию: Cart Screen\n",
      "p-значение:  0.18683558686831558\n",
      "Не получилось отвергнуть нулевую гипотезу, нет оснований считать доли разными\n",
      "\n",
      "Проверим статистическую достоверность по событию: Payment Successful\n",
      "p-значение:  0.6107918742187335\n",
      "Не получилось отвергнуть нулевую гипотезу, нет оснований считать доли разными\n",
      "\n",
      "_______________________________________________________________\n",
      "\n"
     ]
    }
   ],
   "source": [
    "#применим функцию к группам\n",
    "\n",
    "group_list = pd.DataFrame(data={'col1': [\"A1\", \"A1\", \"A2\", \"A1+A2\"], 'col2': [\"A2\", \"B\", \"B\", \"B\"]})\n",
    "for i in range(4):\n",
    "    print(\"Сравним результат группы:\", group_list.loc[i,'col1'], \"с группой:\", group_list.loc[i,'col2'])\n",
    "    proverka_gipotez(group_list.loc[i,'col1'], group_list.loc[i,'col2'])\n",
    "    print(\"_______________________________________________________________\")\n",
    "    print()"
   ]
  },
  {
   "cell_type": "markdown",
   "metadata": {},
   "source": [
    "#### Вывод  \n",
    "На этом шаге мы:  \n",
    "- определили сколько пользователей в каждой экспериментальной группе\n",
    "- проверили, находят ли статистические критерии разницу между выборками А1 и А2.\n",
    "- провели проверку для всех событий и всех групп\n",
    "- определили уровень статистической значимости методом Шидака\n",
    "- посчитали количество проверок - их оказалось 16\n",
    "- при сравнении долей групп по каждому событию, нулевая гипотеза ни разу не была отвергнута. Это говорит о том, что существенных различии между группами нет. "
   ]
  },
  {
   "cell_type": "markdown",
   "metadata": {},
   "source": [
    "### Шаг 6. Общий вывод <a name=\"step6\"></a>"
   ]
  },
  {
   "cell_type": "markdown",
   "metadata": {},
   "source": [
    "В ходе работы мы разобрались, как ведут себя пользователи нашего мобильного приложения. Изучили воронку продаж и узнали, как пользователи доходят до покупки. Определили сколько пользователей доходит до покупки, а сколько — «застревает» на предыдущих шагах и на каких именно шагах.  \n",
    "После этого мы исследовали результаты A/A/B-эксперимента. Наши дизайнеры захотели поменять шрифты во всём приложении, а менеджеры испугались, что пользователям будет непривычно. Была договоренность принять решение по результатам A/A/B-теста. Пользователей разбили на 3 группы: 2 контрольные со старыми шрифтами и одну экспериментальную — с новыми."
   ]
  },
  {
   "cell_type": "markdown",
   "metadata": {},
   "source": [
    "В нашем распоряжении имелись логи с сервера нашего мобильного приложения. В данных было 244126 лога и 7551 пользователь. Пропущенных значений не было, но имелись несоответствия типов данных и дубликаты - 413 штук. В шаге предобработки данных мы привели данные к нужному типу и удалили дубликаты. После этого в данных осталось 243713 лога и 7551 пользователь. Для нашего удобства мы переименовали столбцы, заменили наименования событий и обозначили группы - 2 контрольные со старыми шрифтами А1 и А2 и экспериментальная - В. Мы определили, что у нас имеются данные за 14 дней. Построили гистограмму по дате и увидели неполноту данных: в первую неделю событий было очень мало и только с 01-08-2019 количество событий резко увеличилось. Для дальнейшей работы, мы определили новый период - 7 дней с 01-08-2019 по 07-08-2019. В нашем новом периоде осталось 241298 логов и 7534 пользователя из всех трёх групп.    \n"
   ]
  },
  {
   "cell_type": "markdown",
   "metadata": {},
   "source": [
    "В шаге анализа воронки событий мы определили, какие события есть в логах, как часто они встречаются и посчитали, сколько пользователей совершали каждое из этих событий. Нашли долю пользователей, хоть раз совершивших событие. Основываясь на названиях событий и количестве уникальных пользователей, совершивших это событие, мы предположили, что события происходят в следующем порядке: **Main Screen -> Offers Screen -> Cart Screen -> Payment Successful**. У нас осталось одно событие **Tutorial**, которое могло произойти в любом порядке: пользователь может в любой момент обратиться за справкой в приложении - при входе в приложение, при оформлении заказа или оплаты. При этом мы увидели, что всего 11% пользователей используют это событие, поэтому **Tutorial** мы отсекли и не стали учитывать при дальнейшем расчёте воронки. Далее по воронке событий посчитали, какая доля пользователей проходит на следующий шаг воронки: с шага **Main Screen -> Offers Screen** переходят 62% пользователей, с шага **Offers Screen -> Cart Screen** - 81%, а с шага **Cart Screen -> Payment Successful** 95% пользователей. При этом всего 47,7% пользователей доходит от первого события до оплаты и большинство пользователей теряется при переходе с **Main Screen -> Offers Screen**.  "
   ]
  },
  {
   "cell_type": "markdown",
   "metadata": {},
   "source": [
    "На шаге анализа эксперимента мы определили сколько пользователей в каждой экспериментальной группе: в группе А1 - 2483 пользователей, в А2 - 2512, в группе В - 2535. У нас были 2 контрольные группы для А/А-эксперимента - А1 и А2, чтобы проверить корректность всех механизмов и расчётов. Мы провели проверку, находят ли статистические критерии разницу между выборками групп А1 и А2. Для этого воспользовались Z-критерием. По результатам проверки статистической гипотезы о равенстве долей двух групп, можно сказать что различия нет. Поскольку мы проводили одно сравнение, то значения уровня статистической значимости $\\alpha=0,05$ нам было достаточно. Далее мы провели проверку различия долей между другими группами, т.е несколько сравнений, а точнее 4 группы по 4 события - 16 сравнений. Мы учли увеличение вероятности ошибок первого и второго родов, поэтому для корректировки уровня значимости воспользовались методом Шидака. Мы получили скорректированное значение уровня значимости: `sh_alpha = 0.0032`. По результатам проверки статистических гипотез, можно сказать, что различий между каждой пары групп нет для каждого события.  \n",
    "Поскольку среди наших пар групп присутствовала экспериментальная, мы провели сравнения с каждой из контрольных групп в отдельности. Результаты не отличаются от результатов с объединённой контрольной группой. Это говорит о том, что измененный нашими дизайнерами шрифт в приложении не повлиял на поведение пользователей. Менеджеры могут выдохнуть и принять новое изменение."
   ]
  },
  {
   "cell_type": "code",
   "execution_count": null,
   "metadata": {},
   "outputs": [],
   "source": []
  },
  {
   "cell_type": "code",
   "execution_count": null,
   "metadata": {},
   "outputs": [],
   "source": []
  }
 ],
 "metadata": {
  "kernelspec": {
   "display_name": "Python 3",
   "language": "python",
   "name": "python3"
  },
  "language_info": {
   "codemirror_mode": {
    "name": "ipython",
    "version": 3
   },
   "file_extension": ".py",
   "mimetype": "text/x-python",
   "name": "python",
   "nbconvert_exporter": "python",
   "pygments_lexer": "ipython3",
   "version": "3.7.6"
  }
 },
 "nbformat": 4,
 "nbformat_minor": 2
}
