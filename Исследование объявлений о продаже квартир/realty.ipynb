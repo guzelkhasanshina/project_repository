{
 "cells": [
  {
   "cell_type": "markdown",
   "metadata": {},
   "source": [
    "# Исследование объявлений о продаже квартир\n",
    "\n",
    "В вашем распоряжении архив объявлений о продаже квартир в Санкт-Петербурге и соседних населённых пунктов за несколько лет. Нужно определить рыночную стоимость объектов недвижимости.\n",
    "По каждой квартире на продажу доступны два вида данных. Первые вписаны пользователем, вторые — получены автоматически на основе картографических данных. Например, расстояние до центра, аэропорта, ближайшего парка и водоёма. "
   ]
  },
  {
   "cell_type": "markdown",
   "metadata": {},
   "source": [
    "### Шаг 1. Откройте файл с данными и изучите общую информацию. "
   ]
  },
  {
   "cell_type": "code",
   "execution_count": 4,
   "metadata": {},
   "outputs": [
    {
     "data": {
      "text/html": [
       "<div>\n",
       "<style scoped>\n",
       "    .dataframe tbody tr th:only-of-type {\n",
       "        vertical-align: middle;\n",
       "    }\n",
       "\n",
       "    .dataframe tbody tr th {\n",
       "        vertical-align: top;\n",
       "    }\n",
       "\n",
       "    .dataframe thead th {\n",
       "        text-align: right;\n",
       "    }\n",
       "</style>\n",
       "<table border=\"1\" class=\"dataframe\">\n",
       "  <thead>\n",
       "    <tr style=\"text-align: right;\">\n",
       "      <th></th>\n",
       "      <th>total_images</th>\n",
       "      <th>last_price</th>\n",
       "      <th>total_area</th>\n",
       "      <th>first_day_exposition</th>\n",
       "      <th>rooms</th>\n",
       "      <th>ceiling_height</th>\n",
       "      <th>floors_total</th>\n",
       "      <th>living_area</th>\n",
       "      <th>floor</th>\n",
       "      <th>is_apartment</th>\n",
       "      <th>studio</th>\n",
       "      <th>open_plan</th>\n",
       "      <th>kitchen_area</th>\n",
       "      <th>balcony</th>\n",
       "      <th>locality_name</th>\n",
       "      <th>airports_nearest</th>\n",
       "      <th>cityCenters_nearest</th>\n",
       "      <th>parks_around3000</th>\n",
       "      <th>parks_nearest</th>\n",
       "      <th>ponds_around3000</th>\n",
       "      <th>ponds_nearest</th>\n",
       "      <th>days_exposition</th>\n",
       "    </tr>\n",
       "  </thead>\n",
       "  <tbody>\n",
       "    <tr>\n",
       "      <th>0</th>\n",
       "      <td>20</td>\n",
       "      <td>13000000.0</td>\n",
       "      <td>108.00</td>\n",
       "      <td>2019-03-07T00:00:00</td>\n",
       "      <td>3</td>\n",
       "      <td>2.70</td>\n",
       "      <td>16.0</td>\n",
       "      <td>51.00</td>\n",
       "      <td>8</td>\n",
       "      <td>NaN</td>\n",
       "      <td>False</td>\n",
       "      <td>False</td>\n",
       "      <td>25.00</td>\n",
       "      <td>NaN</td>\n",
       "      <td>Санкт-Петербург</td>\n",
       "      <td>18863.0</td>\n",
       "      <td>16028.0</td>\n",
       "      <td>1.0</td>\n",
       "      <td>482.0</td>\n",
       "      <td>2.0</td>\n",
       "      <td>755.0</td>\n",
       "      <td>NaN</td>\n",
       "    </tr>\n",
       "    <tr>\n",
       "      <th>1</th>\n",
       "      <td>7</td>\n",
       "      <td>3350000.0</td>\n",
       "      <td>40.40</td>\n",
       "      <td>2018-12-04T00:00:00</td>\n",
       "      <td>1</td>\n",
       "      <td>NaN</td>\n",
       "      <td>11.0</td>\n",
       "      <td>18.60</td>\n",
       "      <td>1</td>\n",
       "      <td>NaN</td>\n",
       "      <td>False</td>\n",
       "      <td>False</td>\n",
       "      <td>11.00</td>\n",
       "      <td>2.0</td>\n",
       "      <td>посёлок Шушары</td>\n",
       "      <td>12817.0</td>\n",
       "      <td>18603.0</td>\n",
       "      <td>0.0</td>\n",
       "      <td>NaN</td>\n",
       "      <td>0.0</td>\n",
       "      <td>NaN</td>\n",
       "      <td>81.0</td>\n",
       "    </tr>\n",
       "    <tr>\n",
       "      <th>2</th>\n",
       "      <td>10</td>\n",
       "      <td>5196000.0</td>\n",
       "      <td>56.00</td>\n",
       "      <td>2015-08-20T00:00:00</td>\n",
       "      <td>2</td>\n",
       "      <td>NaN</td>\n",
       "      <td>5.0</td>\n",
       "      <td>34.30</td>\n",
       "      <td>4</td>\n",
       "      <td>NaN</td>\n",
       "      <td>False</td>\n",
       "      <td>False</td>\n",
       "      <td>8.30</td>\n",
       "      <td>0.0</td>\n",
       "      <td>Санкт-Петербург</td>\n",
       "      <td>21741.0</td>\n",
       "      <td>13933.0</td>\n",
       "      <td>1.0</td>\n",
       "      <td>90.0</td>\n",
       "      <td>2.0</td>\n",
       "      <td>574.0</td>\n",
       "      <td>558.0</td>\n",
       "    </tr>\n",
       "    <tr>\n",
       "      <th>3</th>\n",
       "      <td>0</td>\n",
       "      <td>64900000.0</td>\n",
       "      <td>159.00</td>\n",
       "      <td>2015-07-24T00:00:00</td>\n",
       "      <td>3</td>\n",
       "      <td>NaN</td>\n",
       "      <td>14.0</td>\n",
       "      <td>NaN</td>\n",
       "      <td>9</td>\n",
       "      <td>NaN</td>\n",
       "      <td>False</td>\n",
       "      <td>False</td>\n",
       "      <td>NaN</td>\n",
       "      <td>0.0</td>\n",
       "      <td>Санкт-Петербург</td>\n",
       "      <td>28098.0</td>\n",
       "      <td>6800.0</td>\n",
       "      <td>2.0</td>\n",
       "      <td>84.0</td>\n",
       "      <td>3.0</td>\n",
       "      <td>234.0</td>\n",
       "      <td>424.0</td>\n",
       "    </tr>\n",
       "    <tr>\n",
       "      <th>4</th>\n",
       "      <td>2</td>\n",
       "      <td>10000000.0</td>\n",
       "      <td>100.00</td>\n",
       "      <td>2018-06-19T00:00:00</td>\n",
       "      <td>2</td>\n",
       "      <td>3.03</td>\n",
       "      <td>14.0</td>\n",
       "      <td>32.00</td>\n",
       "      <td>13</td>\n",
       "      <td>NaN</td>\n",
       "      <td>False</td>\n",
       "      <td>False</td>\n",
       "      <td>41.00</td>\n",
       "      <td>NaN</td>\n",
       "      <td>Санкт-Петербург</td>\n",
       "      <td>31856.0</td>\n",
       "      <td>8098.0</td>\n",
       "      <td>2.0</td>\n",
       "      <td>112.0</td>\n",
       "      <td>1.0</td>\n",
       "      <td>48.0</td>\n",
       "      <td>121.0</td>\n",
       "    </tr>\n",
       "    <tr>\n",
       "      <th>5</th>\n",
       "      <td>10</td>\n",
       "      <td>2890000.0</td>\n",
       "      <td>30.40</td>\n",
       "      <td>2018-09-10T00:00:00</td>\n",
       "      <td>1</td>\n",
       "      <td>NaN</td>\n",
       "      <td>12.0</td>\n",
       "      <td>14.40</td>\n",
       "      <td>5</td>\n",
       "      <td>NaN</td>\n",
       "      <td>False</td>\n",
       "      <td>False</td>\n",
       "      <td>9.10</td>\n",
       "      <td>NaN</td>\n",
       "      <td>городской посёлок Янино-1</td>\n",
       "      <td>NaN</td>\n",
       "      <td>NaN</td>\n",
       "      <td>NaN</td>\n",
       "      <td>NaN</td>\n",
       "      <td>NaN</td>\n",
       "      <td>NaN</td>\n",
       "      <td>55.0</td>\n",
       "    </tr>\n",
       "    <tr>\n",
       "      <th>6</th>\n",
       "      <td>6</td>\n",
       "      <td>3700000.0</td>\n",
       "      <td>37.30</td>\n",
       "      <td>2017-11-02T00:00:00</td>\n",
       "      <td>1</td>\n",
       "      <td>NaN</td>\n",
       "      <td>26.0</td>\n",
       "      <td>10.60</td>\n",
       "      <td>6</td>\n",
       "      <td>NaN</td>\n",
       "      <td>False</td>\n",
       "      <td>False</td>\n",
       "      <td>14.40</td>\n",
       "      <td>1.0</td>\n",
       "      <td>посёлок Парголово</td>\n",
       "      <td>52996.0</td>\n",
       "      <td>19143.0</td>\n",
       "      <td>0.0</td>\n",
       "      <td>NaN</td>\n",
       "      <td>0.0</td>\n",
       "      <td>NaN</td>\n",
       "      <td>155.0</td>\n",
       "    </tr>\n",
       "    <tr>\n",
       "      <th>7</th>\n",
       "      <td>5</td>\n",
       "      <td>7915000.0</td>\n",
       "      <td>71.60</td>\n",
       "      <td>2019-04-18T00:00:00</td>\n",
       "      <td>2</td>\n",
       "      <td>NaN</td>\n",
       "      <td>24.0</td>\n",
       "      <td>NaN</td>\n",
       "      <td>22</td>\n",
       "      <td>NaN</td>\n",
       "      <td>False</td>\n",
       "      <td>False</td>\n",
       "      <td>18.90</td>\n",
       "      <td>2.0</td>\n",
       "      <td>Санкт-Петербург</td>\n",
       "      <td>23982.0</td>\n",
       "      <td>11634.0</td>\n",
       "      <td>0.0</td>\n",
       "      <td>NaN</td>\n",
       "      <td>0.0</td>\n",
       "      <td>NaN</td>\n",
       "      <td>NaN</td>\n",
       "    </tr>\n",
       "    <tr>\n",
       "      <th>8</th>\n",
       "      <td>20</td>\n",
       "      <td>2900000.0</td>\n",
       "      <td>33.16</td>\n",
       "      <td>2018-05-23T00:00:00</td>\n",
       "      <td>1</td>\n",
       "      <td>NaN</td>\n",
       "      <td>27.0</td>\n",
       "      <td>15.43</td>\n",
       "      <td>26</td>\n",
       "      <td>NaN</td>\n",
       "      <td>False</td>\n",
       "      <td>False</td>\n",
       "      <td>8.81</td>\n",
       "      <td>NaN</td>\n",
       "      <td>посёлок Мурино</td>\n",
       "      <td>NaN</td>\n",
       "      <td>NaN</td>\n",
       "      <td>NaN</td>\n",
       "      <td>NaN</td>\n",
       "      <td>NaN</td>\n",
       "      <td>NaN</td>\n",
       "      <td>189.0</td>\n",
       "    </tr>\n",
       "    <tr>\n",
       "      <th>9</th>\n",
       "      <td>18</td>\n",
       "      <td>5400000.0</td>\n",
       "      <td>61.00</td>\n",
       "      <td>2017-02-26T00:00:00</td>\n",
       "      <td>3</td>\n",
       "      <td>2.50</td>\n",
       "      <td>9.0</td>\n",
       "      <td>43.60</td>\n",
       "      <td>7</td>\n",
       "      <td>NaN</td>\n",
       "      <td>False</td>\n",
       "      <td>False</td>\n",
       "      <td>6.50</td>\n",
       "      <td>2.0</td>\n",
       "      <td>Санкт-Петербург</td>\n",
       "      <td>50898.0</td>\n",
       "      <td>15008.0</td>\n",
       "      <td>0.0</td>\n",
       "      <td>NaN</td>\n",
       "      <td>0.0</td>\n",
       "      <td>NaN</td>\n",
       "      <td>289.0</td>\n",
       "    </tr>\n",
       "  </tbody>\n",
       "</table>\n",
       "</div>"
      ],
      "text/plain": [
       "   total_images  last_price  total_area first_day_exposition  rooms  \\\n",
       "0            20  13000000.0      108.00  2019-03-07T00:00:00      3   \n",
       "1             7   3350000.0       40.40  2018-12-04T00:00:00      1   \n",
       "2            10   5196000.0       56.00  2015-08-20T00:00:00      2   \n",
       "3             0  64900000.0      159.00  2015-07-24T00:00:00      3   \n",
       "4             2  10000000.0      100.00  2018-06-19T00:00:00      2   \n",
       "5            10   2890000.0       30.40  2018-09-10T00:00:00      1   \n",
       "6             6   3700000.0       37.30  2017-11-02T00:00:00      1   \n",
       "7             5   7915000.0       71.60  2019-04-18T00:00:00      2   \n",
       "8            20   2900000.0       33.16  2018-05-23T00:00:00      1   \n",
       "9            18   5400000.0       61.00  2017-02-26T00:00:00      3   \n",
       "\n",
       "   ceiling_height  floors_total  living_area  floor is_apartment  studio  \\\n",
       "0            2.70          16.0        51.00      8          NaN   False   \n",
       "1             NaN          11.0        18.60      1          NaN   False   \n",
       "2             NaN           5.0        34.30      4          NaN   False   \n",
       "3             NaN          14.0          NaN      9          NaN   False   \n",
       "4            3.03          14.0        32.00     13          NaN   False   \n",
       "5             NaN          12.0        14.40      5          NaN   False   \n",
       "6             NaN          26.0        10.60      6          NaN   False   \n",
       "7             NaN          24.0          NaN     22          NaN   False   \n",
       "8             NaN          27.0        15.43     26          NaN   False   \n",
       "9            2.50           9.0        43.60      7          NaN   False   \n",
       "\n",
       "   open_plan  kitchen_area  balcony              locality_name  \\\n",
       "0      False         25.00      NaN            Санкт-Петербург   \n",
       "1      False         11.00      2.0             посёлок Шушары   \n",
       "2      False          8.30      0.0            Санкт-Петербург   \n",
       "3      False           NaN      0.0            Санкт-Петербург   \n",
       "4      False         41.00      NaN            Санкт-Петербург   \n",
       "5      False          9.10      NaN  городской посёлок Янино-1   \n",
       "6      False         14.40      1.0          посёлок Парголово   \n",
       "7      False         18.90      2.0            Санкт-Петербург   \n",
       "8      False          8.81      NaN             посёлок Мурино   \n",
       "9      False          6.50      2.0            Санкт-Петербург   \n",
       "\n",
       "   airports_nearest  cityCenters_nearest  parks_around3000  parks_nearest  \\\n",
       "0           18863.0              16028.0               1.0          482.0   \n",
       "1           12817.0              18603.0               0.0            NaN   \n",
       "2           21741.0              13933.0               1.0           90.0   \n",
       "3           28098.0               6800.0               2.0           84.0   \n",
       "4           31856.0               8098.0               2.0          112.0   \n",
       "5               NaN                  NaN               NaN            NaN   \n",
       "6           52996.0              19143.0               0.0            NaN   \n",
       "7           23982.0              11634.0               0.0            NaN   \n",
       "8               NaN                  NaN               NaN            NaN   \n",
       "9           50898.0              15008.0               0.0            NaN   \n",
       "\n",
       "   ponds_around3000  ponds_nearest  days_exposition  \n",
       "0               2.0          755.0              NaN  \n",
       "1               0.0            NaN             81.0  \n",
       "2               2.0          574.0            558.0  \n",
       "3               3.0          234.0            424.0  \n",
       "4               1.0           48.0            121.0  \n",
       "5               NaN            NaN             55.0  \n",
       "6               0.0            NaN            155.0  \n",
       "7               0.0            NaN              NaN  \n",
       "8               NaN            NaN            189.0  \n",
       "9               0.0            NaN            289.0  "
      ]
     },
     "execution_count": 4,
     "metadata": {},
     "output_type": "execute_result"
    }
   ],
   "source": [
    "import pandas as pd\n",
    "import matplotlib.pyplot as plt\n",
    "plt.style.use('bmh')\n",
    "data = pd.read_csv('real_estate_data.csv', sep='\\t')\n",
    "pd.set_option('display.max_columns', 50)\n",
    "data.head(10)"
   ]
  },
  {
   "cell_type": "code",
   "execution_count": 5,
   "metadata": {},
   "outputs": [
    {
     "name": "stdout",
     "output_type": "stream",
     "text": [
      "<class 'pandas.core.frame.DataFrame'>\n",
      "RangeIndex: 23699 entries, 0 to 23698\n",
      "Data columns (total 22 columns):\n",
      " #   Column                Non-Null Count  Dtype  \n",
      "---  ------                --------------  -----  \n",
      " 0   total_images          23699 non-null  int64  \n",
      " 1   last_price            23699 non-null  float64\n",
      " 2   total_area            23699 non-null  float64\n",
      " 3   first_day_exposition  23699 non-null  object \n",
      " 4   rooms                 23699 non-null  int64  \n",
      " 5   ceiling_height        14504 non-null  float64\n",
      " 6   floors_total          23613 non-null  float64\n",
      " 7   living_area           21796 non-null  float64\n",
      " 8   floor                 23699 non-null  int64  \n",
      " 9   is_apartment          2775 non-null   object \n",
      " 10  studio                23699 non-null  bool   \n",
      " 11  open_plan             23699 non-null  bool   \n",
      " 12  kitchen_area          21421 non-null  float64\n",
      " 13  balcony               12180 non-null  float64\n",
      " 14  locality_name         23650 non-null  object \n",
      " 15  airports_nearest      18157 non-null  float64\n",
      " 16  cityCenters_nearest   18180 non-null  float64\n",
      " 17  parks_around3000      18181 non-null  float64\n",
      " 18  parks_nearest         8079 non-null   float64\n",
      " 19  ponds_around3000      18181 non-null  float64\n",
      " 20  ponds_nearest         9110 non-null   float64\n",
      " 21  days_exposition       20518 non-null  float64\n",
      "dtypes: bool(2), float64(14), int64(3), object(3)\n",
      "memory usage: 3.7+ MB\n"
     ]
    }
   ],
   "source": [
    "data.info()"
   ]
  },
  {
   "cell_type": "markdown",
   "metadata": {},
   "source": [
    "### Вывод"
   ]
  },
  {
   "cell_type": "markdown",
   "metadata": {},
   "source": [
    "В таблице 22 столбца с разными типами данных: bool, float, int и object. Метод info() показал наличие пропущенных значений в достаточно большом количестве столбцов. Они могли возникнуть в следствие некорреткной выгрузки, либо некорректного заполнения данных - большая часть пропусков в части, полученной автоматически. Попробуем преобразовать данные и избавиться от пропусков, предложив логическую замену."
   ]
  },
  {
   "cell_type": "markdown",
   "metadata": {},
   "source": [
    "### Шаг 2. Предобработка данных"
   ]
  },
  {
   "cell_type": "code",
   "execution_count": 6,
   "metadata": {},
   "outputs": [],
   "source": [
    "#Заполним пропуски в столбце с названиями населенных пунктов\n",
    "data['locality_name'] = data['locality_name'].fillna('Неизвестно')"
   ]
  },
  {
   "cell_type": "code",
   "execution_count": 7,
   "metadata": {},
   "outputs": [],
   "source": [
    "#Заполним пропуски в жилой площади и площади кухни.\n",
    "\n",
    "#если комнат 0, то это студия. Заменяем значения в столбце \"studio\":\n",
    "data.loc[data['rooms'] == 0, 'studio'] = data.loc[data['rooms'] == 0, 'studio'].replace(False, True)\n",
    "#если студия, то площадь кухни равна 0:\n",
    "data.loc[data['studio'] == True, 'kitchen_area'] = data.loc[data['studio'] == True, 'kitchen_area'].fillna(0)\n",
    "median_living_studio = data.groupby('studio')['living_area'].median()\n",
    "data.loc[data['studio'] == True, 'living_area'] = data.loc[data['studio'] == True, 'living_area'].fillna(median_living_studio[True])\n",
    "#для всех остальных типов квартир:\n",
    "data_rooms_type = [1,2,3,4,5,6,7,8,9,10]#массив комнат\n",
    "data_median_liv = data.groupby('rooms')['living_area'].median()#находим медиану для жилой площади\n",
    "data_median_kit = data.groupby('rooms')['kitchen_area'].median()#находим медиану для кухни\n",
    "#заменяем пропущенные значения на медианы:\n",
    "room_type_num = 0 \n",
    "for room in data_rooms_type:\n",
    "    data.loc[data['rooms'] == room, 'living_area'] = data.loc[data['rooms'] == room, 'living_area'].fillna(data_median_liv[room_type_num])\n",
    "    data.loc[data['rooms'] == room, 'kitchen_area'] = data.loc[data['rooms'] == room, 'kitchen_area'].fillna(data_median_kit[room_type_num])\n",
    "    room_type_num +=1\n",
    "#data.info()"
   ]
  },
  {
   "cell_type": "code",
   "execution_count": 8,
   "metadata": {},
   "outputs": [],
   "source": [
    "data['is_apartment'] = data['is_apartment'].fillna(False)#заполняем пропуске в столбце 'is_apartment'\n",
    "data['balcony'] = data['balcony'].fillna(0)#заполняем пропуски в столбце 'balcony'\n",
    "data['floors_total'] = data['floors_total'].fillna(0)#заполняем пропуски в столбце 'floors_total'\n",
    "\n",
    "#меняем тип данных:\n",
    "data['is_apartment'] = data['is_apartment'].astype('bool')\n",
    "data['floors_total'] = data['floors_total'].astype('int')\n",
    "data['last_price'] = data['last_price'].astype('int')\n"
   ]
  },
  {
   "cell_type": "code",
   "execution_count": 9,
   "metadata": {},
   "outputs": [],
   "source": [
    "#data['last_price'].min() #уточняем минимальную цену жилья\n",
    "#исправляем минимальную цену:\n",
    "for row in data:  \n",
    "    data.loc[data['last_price'] < 100000, 'last_price'] = data.loc[data['last_price'] < 100000, 'last_price']*1000\n",
    "#исправляем некорректные значения в столбце с высотой потолка\n",
    "for row in data:  \n",
    "    data.loc[data['ceiling_height'] >= 20, 'ceiling_height'] = data.loc[data['ceiling_height'] >=20, 'ceiling_height']*0.1\n",
    "def cel_hei(ceiling_height):\n",
    "    if ceiling_height < 2.3:\n",
    "        return None\n",
    "    elif ceiling_height > 6:\n",
    "        return None\n",
    "    else:\n",
    "        return ceiling_height\n",
    "data['ceiling_height'] = data['ceiling_height'].apply(cel_hei)\n",
    "\n",
    "data_city = data['locality_name'].unique()\n",
    "data_median_height = data.groupby('locality_name')['ceiling_height'].median()#находим медиану потолка по городам\n",
    "#заменяем пропуски в столбце с высотой потолка\n",
    "height_type_num = 0 \n",
    "for city in data_city:\n",
    "    data.loc[data['locality_name'] == city, 'ceiling_height'] = data.loc[data['locality_name'] == city, 'ceiling_height'].fillna(data_median_height[height_type_num])\n",
    "    height_type_num +=1\n",
    "data['ceiling_height'] = data['ceiling_height'].fillna(2.5)\n"
   ]
  },
  {
   "cell_type": "markdown",
   "metadata": {},
   "source": [
    "### Вывод\n",
    "Первым делом заполнили пропуски в столбце с наименованиями населенных пунктов. Посколько их всего 49, достаточно заполнить их специальным значением \"Неизвестно\" тем самым выделить в особую категорию и далее, при необходимости, работать с этой группой отдельно. Для некоторых квартир с количеством комнат равным 0, поменяли параметр в столбце \"Студия\" с False на True. Поскольку для квартир-студий характерно отсутсвие комнат. А также для таких типов квартир указали площадь кухни равной 0. Для всех остальных типов квартир пропуски в столбцах \"Жилая площадь\" и \"Площадь кухни\" заполнялись значениями медиан, отталкиваясь от количества комнат в квартире. Для квартир-студий пропуски в жилой площади заполняются аналогично медианой. Пропуски в столбце \"Апартаменты\" заполнили значением False. Поскольку, мы предположили, что апартаменты значительно менее популярный тип недвижимости, чем квартира, поэтому если отсутствует уточнение, значит это квартира. Тип данных этого же столбца изменили в соответствии с условием поставленной задачи. В столбце с данными о цене - поскольку недвижимость чаще продается без учета копеек. В столбце со значениями этажа - номер этажа это всегда целое число. Исправили некорректные значения в столбце \"высота потолков\". Преположили, что если высота более 20, то скорей всего сместилась \",\", поэтому значение домножили на 0.1. Также избавились от значений ниже 2.3м и более 6м. Заменили их пропуском, а сами пропуски - на медианы в зависимости от населенного пункта."
   ]
  },
  {
   "cell_type": "markdown",
   "metadata": {},
   "source": [
    "### Шаг 3. Посчитайте и добавьте в таблицу"
   ]
  },
  {
   "cell_type": "code",
   "execution_count": 10,
   "metadata": {},
   "outputs": [],
   "source": [
    "data['price_per_meter']=data['last_price']/data['total_area']#цена за квадратный метр\n",
    "data['price_per_meter'] = data['price_per_meter'].round(2)\n",
    "\n",
    "#перевод строки в дату\n",
    "data['first_day_exposition'] = pd.to_datetime(data['first_day_exposition'], format='%Y-%m-%d %H:%M')\n",
    "\n",
    "#добавление столбцов: день недели, месяц, год:\n",
    "data['weekday'] = data['first_day_exposition'].dt.weekday\n",
    "data['month'] = data['first_day_exposition'].dt.month\n",
    "data['year'] = data['first_day_exposition'].dt.year\n",
    "#заменяем числовое значение дня недели\n",
    "week = ['Понедельник', 'Вторник', 'Среда', 'Четверг', 'Пятница', 'Суббота', 'Воскресенье']\n",
    "week_fl = 0\n",
    "for day in week:\n",
    "    data['weekday'] = data['weekday'].replace(week_fl,day)\n",
    "    week_fl +=1\n",
    "\n",
    "#категории этажей:\n",
    "def floor_options(row):\n",
    "    floor = row['floor']\n",
    "    floors_total = row['floors_total']\n",
    "    if floor == 1:\n",
    "        return 'Первый'\n",
    "    elif floor == floors_total:\n",
    "        return 'Последний'\n",
    "    else:\n",
    "        return 'Другое'\n",
    "\n",
    "data['floor_type'] = data.apply(floor_options, axis=1)\n",
    "data['floor_type'] = data['floor_type'].astype('category')\n",
    "\n",
    "#соотношение жилой и общей площади, а также отношение площади кухни к общей:\n",
    "data['ratio_living_area']= data['living_area']/data['total_area']\n",
    "data['ratio_kitchen_area'] = data['kitchen_area']/data['total_area']\n",
    "data['ratio_living_area'] = data['ratio_living_area'].round(2)\n",
    "data['ratio_kitchen_area'] = data['ratio_kitchen_area'].round(2)\n"
   ]
  },
  {
   "cell_type": "markdown",
   "metadata": {},
   "source": [
    "### Шаг 4. Проведите исследовательский анализ данных и выполните инструкции:"
   ]
  },
  {
   "cell_type": "code",
   "execution_count": 11,
   "metadata": {},
   "outputs": [
    {
     "data": {
      "image/png": "[encoded data removed]",
      "text/plain": [
       "<Figure size 432x288 with 1 Axes>"
      ]
     },
     "metadata": {
      "needs_background": "light"
     },
     "output_type": "display_data"
    },
    {
     "data": {
      "image/png": "[encoded data removed]",
      "text/plain": [
       "<Figure size 432x288 with 1 Axes>"
      ]
     },
     "metadata": {
      "needs_background": "light"
     },
     "output_type": "display_data"
    },
    {
     "data": {
      "image/png": "[encoded data removed]",
      "text/plain": [
       "<Figure size 432x288 with 1 Axes>"
      ]
     },
     "metadata": {
      "needs_background": "light"
     },
     "output_type": "display_data"
    },
    {
     "data": {
      "image/png": "[encoded data removed]",
      "text/plain": [
       "<Figure size 432x288 with 1 Axes>"
      ]
     },
     "metadata": {
      "needs_background": "light"
     },
     "output_type": "display_data"
    }
   ],
   "source": [
    "#изучение параметров: площадь, цена, число комнат, высота потолков\n",
    "colums = ['total_area', 'last_price', 'rooms', 'ceiling_height']\n",
    "for row in colums:\n",
    "    a = data[row].quantile(q=0.25) - ((data[row].quantile(q=0.75) - data[row].quantile(q=0.25)) * 1.5)\n",
    "    b = data[row].quantile(q=0.75) + ((data[row].quantile(q=0.75) - data[row].quantile(q=0.25)) * 1.5)\n",
    "    if a < 0:\n",
    "        a = 0\n",
    "    else:\n",
    "        a = a\n",
    "    if data[row].quantile(q=1)> 20:\n",
    "        data.hist(row, bins = 20, range = (a, b))\n",
    "    else:\n",
    "        data.hist(row, range = (a, b))\n"
   ]
  },
  {
   "cell_type": "markdown",
   "metadata": {},
   "source": [
    "### Вывод\n",
    "Изучив гистограммы значений столбцов \"Общая площадь\", \"Цена\", \"Количество комнат\" и \"Высота потолка\" можно сказать, что распределиение больше похоже на Пуассона. Пик приходится на наиболее частые значения. Столбец \"Цена\" имеет большее количество значений, поэтому распределение Пуассона стремится к нормальному и более симметрично. Наиболее популярны: квартиры с площадью 30-40кв.м,  стоимость 3-5млн., квартиры от 1 до 2 комнат. На последней гистограмме (\"Высота потолка\") два пика, что может говорить о спросе квартир с высотой от 2,5 до 3м и 4м. Можно предположить, что это связано с популярностью разных типов помещений (новые, старые дома)."
   ]
  },
  {
   "cell_type": "code",
   "execution_count": 12,
   "metadata": {
    "scrolled": true
   },
   "outputs": [
    {
     "name": "stdout",
     "output_type": "stream",
     "text": [
      "Среднее время продажи: 181\n",
      "Медиана времени продажи: 95\n"
     ]
    },
    {
     "data": {
      "image/png": "[encoded data removed]",
      "text/plain": [
       "<Figure size 432x288 with 1 Axes>"
      ]
     },
     "metadata": {
      "needs_background": "light"
     },
     "output_type": "display_data"
    }
   ],
   "source": [
    "#Время продажи квартиры:\n",
    "print('Среднее время продажи: {:.0f}'.format(data['days_exposition'].mean()))\n",
    "print('Медиана времени продажи: {:.0f}'. format(data['days_exposition'].median()))\n",
    "data['days_exposition'].hist(bins=50, range=(0,data['days_exposition'].quantile(q=0.95)));\n",
    "plt.show()\n",
    "# data.boxplot('days_exposition')\n",
    "# plt.ylim(0, 600)\n",
    "# plt.show()"
   ]
  },
  {
   "cell_type": "markdown",
   "metadata": {},
   "source": [
    "По гистограмме видно, что распределение похоже на распределение Пуассона. Были посчитаны медианное и среднее значения времени продажи, они составили 95 и 181 соотвественно. Далее по диаграмме размаха можно сделать вывод о времени продажи:\n",
    "1) Продажи, совершенные менее чем за 45 дней могут считаться быстрыми. \n",
    "2) Чаще всего продажа квартиры может длиться от 45 до 232 дней.\n",
    "3) Медленной продажей могут считаться те, что совершились в период с 232-го по 512-й день.\n",
    "4) Продажа квартиры более 512 дней может считаться необычно долгой. "
   ]
  },
  {
   "cell_type": "code",
   "execution_count": 13,
   "metadata": {},
   "outputs": [],
   "source": [
    "data.query('total_area < living_area + kitchen_area').count()\n",
    "\n",
    "data['locality_name'] = data['locality_name'].replace('поселок Мурино','посёлок Мурино')\n",
    "data['locality_name'] = data['locality_name'].replace('Кудрово','деревня Кудрово')"
   ]
  },
  {
   "cell_type": "markdown",
   "metadata": {},
   "source": [
    "Часть редких и выбивающихся значения были убраны в пункте Предобработки данных. Общая площадь некоторых квартир оказалась больше суммы жилой и кухни. Но таких данных незначительное количество и можно ими пренебречь.\n",
    "В столбце с нименованием населенного пункта были обнаружены некоторые особенности с определением типов населенных пунктов, например: указан \"поселок\" и \"посёлок\", \"деревня Кудрово\" и \"Кудрово\". Попытка лемматизировать весь столбец привела к искажению в названиях населенных пунктов, и от этой идеи пришлось отказаться. Для дальнейшего анализа были преобразованы лишь некоторые значения (входящие в топ-10 населённых пунктов с наибольшим числом объявлений). Стоит обратить внимание разработчиков на возможность разделения столбцов с типом и названием населенного пункта. Это позволит избежать некоторых ошибок в данных и упростит работу с ними. "
   ]
  },
  {
   "cell_type": "code",
   "execution_count": 14,
   "metadata": {},
   "outputs": [
    {
     "name": "stdout",
     "output_type": "stream",
     "text": [
      "                     last_price  total_area     rooms  cityCenters_nearest\n",
      "last_price             1.000000    0.779728  0.489756            -0.360553\n",
      "total_area             0.779728    1.000000  0.789824            -0.170263\n",
      "rooms                  0.489756    0.789824  1.000000            -0.139277\n",
      "cityCenters_nearest   -0.360553   -0.170263 -0.139277             1.000000\n",
      "\n",
      "            last_price  price_per_meter\n",
      "floor_type                             \n",
      "Другое         4850000         98295.30\n",
      "Последний      4300000         87782.02\n",
      "Первый         3900000         81223.63\n",
      "\n",
      "\n",
      "            last_price     month      year\n",
      "last_price    1.000000 -0.004431  0.036195\n",
      "month        -0.004431  1.000000 -0.272561\n",
      "year          0.036195 -0.272561  1.000000\n",
      "\n",
      "             last_price  price_per_meter\n",
      "weekday                                 \n",
      "Вторник         4730000         95634.10\n",
      "Среда           4700000         95478.27\n",
      "Понедельник     4650000         94688.91\n",
      "Четверг         4650000         95143.88\n",
      "Пятница         4585000         94616.16\n",
      "Суббота         4555000         93545.72\n",
      "Воскресенье     4550000         94501.72\n"
     ]
    }
   ],
   "source": [
    "params = ['last_price', 'total_area', 'rooms', 'cityCenters_nearest']\n",
    "new_data = data\n",
    "#избавляемся от \"вбросов\"\n",
    "for par in params:\n",
    "    b = new_data[par].quantile(q=0.75) + ((new_data[par].quantile(q=0.75) - new_data[par].quantile(q=0.25)) * 1.5)\n",
    "    new_data = new_data.loc[new_data[par]<b]\n",
    "table_stat = new_data[['last_price', 'total_area', 'rooms', 'cityCenters_nearest']]\n",
    "print(table_stat.corr())#матрица корреляции для параметров \"Цена\", \"Общая площадь\", \"Количество комнат\", \"Расстояние до центра\"\n",
    "print()\n",
    "#зависимость от \"Этажа\"\n",
    "dep_price_for_floot=data.pivot_table(index='floor_type', values=['price_per_meter','last_price'] , aggfunc='median')\n",
    "print(dep_price_for_floot.sort_values(by ='last_price', ascending=False))\n",
    "print()\n",
    "print()\n",
    "table_stat = new_data[['last_price', 'month', 'year']]\n",
    "print(table_stat.corr())#матрица корреляции для параметров \"Цена\", \"Месяц публикации\",\"Год публикации\"\n",
    "print()\n",
    "dep_price_for_week=data.pivot_table(index='weekday', values=['price_per_meter','last_price'] , aggfunc='median')\n",
    "print(dep_price_for_week.sort_values(by ='last_price', ascending=False))#зависимость \"Цены\" от \"День недели\""
   ]
  },
  {
   "cell_type": "markdown",
   "metadata": {},
   "source": [
    "Изучив коэффициенты матрицы корреляции можно сказать, что стоимость квартиры имеет наибольшую взаимосвязь с площадью помещения, чуть меньшую - с количеством комнат, а также с удаленностью от центра (обратная связь). По таблице зависимости цены от этажа можно сказать, что стоимость первого и последних этажей ниже, чем остальных. Также видно, что стоимость квартиры не зависит от месяца и года публикаций. Интересный факт, в объявлениях, которые опубликованы в будние дни, в среднем цена квартиры выше, чем в выходные (возможно это связано с наценкой агентств недвижимости у которых 5-ти дневняя рабочая неделя)"
   ]
  },
  {
   "cell_type": "code",
   "execution_count": 15,
   "metadata": {},
   "outputs": [
    {
     "data": {
      "text/html": [
       "<div>\n",
       "<style scoped>\n",
       "    .dataframe tbody tr th:only-of-type {\n",
       "        vertical-align: middle;\n",
       "    }\n",
       "\n",
       "    .dataframe tbody tr th {\n",
       "        vertical-align: top;\n",
       "    }\n",
       "\n",
       "    .dataframe thead th {\n",
       "        text-align: right;\n",
       "    }\n",
       "</style>\n",
       "<table border=\"1\" class=\"dataframe\">\n",
       "  <thead>\n",
       "    <tr style=\"text-align: right;\">\n",
       "      <th></th>\n",
       "      <th>price_per_meter</th>\n",
       "    </tr>\n",
       "    <tr>\n",
       "      <th>locality_name</th>\n",
       "      <th></th>\n",
       "    </tr>\n",
       "  </thead>\n",
       "  <tbody>\n",
       "    <tr>\n",
       "      <th>Санкт-Петербург</th>\n",
       "      <td>104770.27</td>\n",
       "    </tr>\n",
       "    <tr>\n",
       "      <th>Пушкин</th>\n",
       "      <td>100000.00</td>\n",
       "    </tr>\n",
       "    <tr>\n",
       "      <th>деревня Кудрово</th>\n",
       "      <td>95675.48</td>\n",
       "    </tr>\n",
       "    <tr>\n",
       "      <th>посёлок Парголово</th>\n",
       "      <td>91642.86</td>\n",
       "    </tr>\n",
       "    <tr>\n",
       "      <th>посёлок Мурино</th>\n",
       "      <td>85878.46</td>\n",
       "    </tr>\n",
       "    <tr>\n",
       "      <th>посёлок Шушары</th>\n",
       "      <td>76876.18</td>\n",
       "    </tr>\n",
       "    <tr>\n",
       "      <th>Колпино</th>\n",
       "      <td>74723.74</td>\n",
       "    </tr>\n",
       "    <tr>\n",
       "      <th>Гатчина</th>\n",
       "      <td>67796.61</td>\n",
       "    </tr>\n",
       "    <tr>\n",
       "      <th>Всеволожск</th>\n",
       "      <td>65789.47</td>\n",
       "    </tr>\n",
       "    <tr>\n",
       "      <th>Выборг</th>\n",
       "      <td>58158.32</td>\n",
       "    </tr>\n",
       "  </tbody>\n",
       "</table>\n",
       "</div>"
      ],
      "text/plain": [
       "                   price_per_meter\n",
       "locality_name                     \n",
       "Санкт-Петербург          104770.27\n",
       "Пушкин                   100000.00\n",
       "деревня Кудрово           95675.48\n",
       "посёлок Парголово         91642.86\n",
       "посёлок Мурино            85878.46\n",
       "посёлок Шушары            76876.18\n",
       "Колпино                   74723.74\n",
       "Гатчина                   67796.61\n",
       "Всеволожск                65789.47\n",
       "Выборг                    58158.32"
      ]
     },
     "execution_count": 15,
     "metadata": {},
     "output_type": "execute_result"
    }
   ],
   "source": [
    "#10 населённых пунктов с наибольшим числом объявлений. \n",
    "top_local = data['locality_name'].value_counts().head(10)\n",
    "top_slice = data.query('locality_name in @top_local.index')\n",
    "table_price_top = top_slice.pivot_table(index='locality_name', values='price_per_meter', aggfunc = 'median')\n",
    "table_price_top.sort_values(by='price_per_meter', ascending=False).round(2)"
   ]
  },
  {
   "cell_type": "code",
   "execution_count": 16,
   "metadata": {},
   "outputs": [
    {
     "name": "stdout",
     "output_type": "stream",
     "text": [
      "       last_price    locality_name\n",
      "12971   763000000  Санкт-Петербург\n",
      "\n",
      "       last_price locality_name\n",
      "12536      600000        Выборг\n"
     ]
    }
   ],
   "source": [
    "#Населённые пункты с самой высокой и низкой стоимостью жилья. \n",
    "print(top_slice.loc[top_slice['last_price'] == top_slice['last_price'].max(), ('last_price', 'locality_name')])\n",
    "print()\n",
    "print(top_slice.loc[top_slice['last_price'] == top_slice['last_price'].min(), ('last_price', 'locality_name')])"
   ]
  },
  {
   "cell_type": "code",
   "execution_count": 17,
   "metadata": {},
   "outputs": [
    {
     "data": {
      "image/png": "[encoded data removed]",
      "text/plain": [
       "<Figure size 720x432 with 1 Axes>"
      ]
     },
     "metadata": {
      "needs_background": "light"
     },
     "output_type": "display_data"
    }
   ],
   "source": [
    "data['cityCenters_km']=data['cityCenters_nearest']/1000 #переводим метры в километры\n",
    "saint_petersburg = data.query('locality_name == \"Санкт-Петербург\"').copy()#зона Санкт-Петербурга\n",
    "saint_petersburg.dropna(subset = ['cityCenters_nearest'], inplace = True)\n",
    "saint_petersburg['cityCenters_km']=saint_petersburg['cityCenters_km'].astype('int')\n",
    "\n",
    "(saint_petersburg\n",
    "         .pivot_table(index='cityCenters_km', values='price_per_meter')\n",
    "         .plot(kind='bar', grid=True, figsize=(10, 6))\n",
    ");"
   ]
  },
  {
   "cell_type": "markdown",
   "metadata": {},
   "source": [
    "Выделив сегмент квартир в Санкт-Петербурге можем предположительно определить область центра: по графику - резкое снижение стоимости кв.метра жилья на протяжении первых 4 км."
   ]
  },
  {
   "cell_type": "code",
   "execution_count": 18,
   "metadata": {},
   "outputs": [
    {
     "name": "stdout",
     "output_type": "stream",
     "text": [
      "                     last_price  total_area     rooms  cityCenters_nearest\n",
      "last_price             1.000000    0.680923  0.425604            -0.129057\n",
      "total_area             0.680923    1.000000  0.774985            -0.040229\n",
      "rooms                  0.425604    0.774985  1.000000            -0.037291\n",
      "cityCenters_nearest   -0.129057   -0.040229 -0.037291             1.000000\n",
      "\n",
      "            last_price  price_per_meter\n",
      "floor_type                             \n",
      "Другое        10000000        119148.94\n",
      "Последний      9400000        114432.50\n",
      "Первый         7125000        107508.77\n",
      "\n",
      "\n",
      "            last_price     month      year\n",
      "last_price    1.000000 -0.059124 -0.019646\n",
      "month        -0.059124  1.000000 -0.222151\n",
      "year         -0.019646 -0.222151  1.000000\n",
      "\n",
      "             last_price  price_per_meter\n",
      "weekday                                 \n",
      "Четверг         5650000       105823.640\n",
      "Вторник         5500000       104602.510\n",
      "Понедельник     5500000       104887.010\n",
      "Пятница         5500000       104303.990\n",
      "Среда           5500000       104638.885\n",
      "Суббота         5500000       104081.630\n",
      "Воскресенье     5400000       104395.600\n"
     ]
    },
    {
     "data": {
      "image/png": "[encoded data removed]",
      "text/plain": [
       "<Figure size 432x288 with 1 Axes>"
      ]
     },
     "metadata": {
      "needs_background": "light"
     },
     "output_type": "display_data"
    },
    {
     "data": {
      "image/png": "[encoded data removed]",
      "text/plain": [
       "<Figure size 432x288 with 1 Axes>"
      ]
     },
     "metadata": {
      "needs_background": "light"
     },
     "output_type": "display_data"
    },
    {
     "data": {
      "image/png": "[encoded data removed]",
      "text/plain": [
       "<Figure size 432x288 with 1 Axes>"
      ]
     },
     "metadata": {
      "needs_background": "light"
     },
     "output_type": "display_data"
    },
    {
     "data": {
      "image/png": "[encoded data removed]",
      "text/plain": [
       "<Figure size 432x288 with 1 Axes>"
      ]
     },
     "metadata": {
      "needs_background": "light"
     },
     "output_type": "display_data"
    }
   ],
   "source": [
    "data_st_pet4 = saint_petersburg.query('cityCenters_km <4').copy()\n",
    "colums_4km = ['total_area', 'last_price', 'rooms', 'ceiling_height']\n",
    "for row_4 in colums_4km:\n",
    "    a_4 = data_st_pet4[row_4].quantile(q=0.25) - ((data_st_pet4[row_4].quantile(q=0.75) - data_st_pet4[row_4].quantile(q=0.25)) * 1.5)\n",
    "    b_4 = data_st_pet4[row_4].quantile(q=0.75) + ((data_st_pet4[row_4].quantile(q=0.75) - data_st_pet4[row_4].quantile(q=0.25)) * 1.5)\n",
    "    if a_4 < 0:\n",
    "        a_4 = 0\n",
    "    else:\n",
    "        a_4 = a_4\n",
    "    if data_st_pet4[row_4].quantile(q=1)> 20:\n",
    "        data_st_pet4.hist(row_4, bins = 20, range = (a_4, b_4))\n",
    "    else:\n",
    "        data_st_pet4.hist(row_4, range = (a_4, b_4))\n",
    "params_4km = ['last_price', 'total_area', 'rooms', 'cityCenters_nearest']\n",
    "new_data_4km = data_st_pet4\n",
    "for par_4km in params_4km:\n",
    "    b2 = new_data_4km[par_4km].quantile(q=0.75) + ((new_data_4km[par_4km].quantile(q=0.75) - new_data_4km[par_4km].quantile(q=0.25)) * 1.5)\n",
    "    new_data_4km = new_data_4km.loc[new_data_4km[par_4km]<b2]\n",
    "table_stat_4km = new_data_4km[['last_price', 'total_area', 'rooms', 'cityCenters_nearest']]\n",
    "print(table_stat_4km.corr())\n",
    "\n",
    "print()\n",
    "dep_price_for_floot_4km=data_st_pet4.pivot_table(index='floor_type', values=['price_per_meter','last_price'] , aggfunc='median')\n",
    "print(dep_price_for_floot_4km.sort_values(by ='last_price', ascending=False))\n",
    "print()\n",
    "print()\n",
    "table_stat_4km_per = new_data_4km[['last_price', 'month', 'year']]\n",
    "print(table_stat_4km_per.corr())\n",
    "print()\n",
    "dep_price_for_week_4km=saint_petersburg.pivot_table(index='weekday', values=['price_per_meter','last_price'] , aggfunc='median')\n",
    "print(dep_price_for_week_4km.sort_values(by ='last_price', ascending=False))"
   ]
  },
  {
   "cell_type": "markdown",
   "metadata": {},
   "source": [
    "Выделив сегмент квартир в центре и изучив такие параметры как: площадь, цена, число комнат, высота потолков, можно сделать вывод: в центре преобладают квартиры площадью от 60кв.м до 70 кв.м, количество комнат - 2-3 и высота потолков 4м. Стоимость квартиры имеет большую взаимосвязь с площадью помещения и меньшую - с количеством комнат, влияние расстояния до центра стало еще менее значительным, можно даже сказать что расстояние уже не влияет.. По таблице зависимости цены от этажа - нименьшая средняя стоимость у квартир на первых этажах. Также стоимость квартир не зависит от даты публикации. "
   ]
  },
  {
   "cell_type": "code",
   "execution_count": 19,
   "metadata": {},
   "outputs": [],
   "source": [
    "\n",
    "params1 = ['last_price', 'total_area', 'rooms', 'cityCenters_nearest']\n",
    "new_data1 = saint_petersburg\n",
    "for par1 in params1:\n",
    "    b1 = new_data1[par1].quantile(q=0.75) + ((new_data1[par1].quantile(q=0.75) - new_data1[par1].quantile(q=0.25)) * 1.5)\n",
    "    new_data1 = new_data1.loc[new_data1[par1]<b1]\n",
    "table_stat1 = new_data1[['last_price', 'total_area', 'rooms', 'cityCenters_nearest']]\n",
    "dep_price_for_floot1=saint_petersburg.pivot_table(index='floor_type', values=['price_per_meter','last_price'] , aggfunc='median')\n",
    "table_stat11 = new_data1[['last_price', 'month', 'year']]\n",
    "\n",
    "\n",
    "\n"
   ]
  },
  {
   "cell_type": "code",
   "execution_count": 20,
   "metadata": {},
   "outputs": [
    {
     "name": "stdout",
     "output_type": "stream",
     "text": [
      "                     last_price  total_area     rooms  cityCenters_nearest\n",
      "last_price             1.000000    0.799608  0.491336            -0.362135\n",
      "total_area             0.799608    1.000000  0.784911            -0.216983\n",
      "rooms                  0.491336    0.784911  1.000000            -0.150814\n",
      "cityCenters_nearest   -0.362135   -0.216983 -0.150814             1.000000\n",
      "\n",
      "            last_price  price_per_meter\n",
      "floor_type                             \n",
      "Последний      5650000       102036.690\n",
      "Другое         5600000       106666.670\n",
      "Первый         4850000        93308.455\n",
      "\n",
      "            last_price     month      year\n",
      "last_price    1.000000 -0.003840  0.014144\n",
      "month        -0.003840  1.000000 -0.277348\n",
      "year          0.014144 -0.277348  1.000000\n"
     ]
    }
   ],
   "source": [
    "#зависимость для Санкт-Петербурга (число комнат, этаж, удалённость от центра, дата размещения объявления)\n",
    "print(table_stat1.corr())\n",
    "print()\n",
    "print(dep_price_for_floot1.sort_values(by ='last_price', ascending=False))\n",
    "print()\n",
    "print(table_stat11.corr())"
   ]
  },
  {
   "cell_type": "markdown",
   "metadata": {},
   "source": [
    "### Шаг 5. Общий вывод"
   ]
  },
  {
   "cell_type": "markdown",
   "metadata": {},
   "source": [
    "Мы провели исследовательский анализ архива объявлений о продаже квартир в Санкт-Петербурге и соседних населённых пунктов. Предобработали данные: определили и изучили пропущенные значения, там где это возможно нашли логичную замену, указали возможные причины, которые могли привести к пропускам в данных. Изучили параметры: площадь, цена, число комнат, высота потолков, как для всей области, так и отдельно для центра и для города. Построили гистограммы для каждого параметра. Изучили время продажи квартиры. Предположили, что продажи, совершенные менее чем за 45 дней считаются быстрыми, а продажи квартиры более 512 дней - считаются необычно долгими. Изучили факторы которые больше всего влияют на стоимость квартиры. Можно сказать, что на стоимость больше всего влияет площадь помещения (квадратные метры), при этом число комнат имеет меньшее влияние. Также, на стоимость влияет расположение квартиры: этаж - на первом этаже квартиры дешевле, расстояние до центра -  чем ближе к центру, тем сильнее повышается цена, но есть несколько исключений, возможно это связано с районами с элитными ЖК или более комфортными условиями. А вот дата размещения на стоимость никак не влияют. Выделили для топ-10 населенных пунктов с наибольшим количеством объявлений, два населенных пункта с наименьшей и наибольшей стоимостью жилья - ими оказались Санкт-Петербург и Выборг соответственно."
   ]
  },
  {
   "cell_type": "code",
   "execution_count": null,
   "metadata": {},
   "outputs": [],
   "source": []
  }
 ],
 "metadata": {
  "kernelspec": {
   "display_name": "Python 3",
   "language": "python",
   "name": "python3"
  },
  "language_info": {
   "codemirror_mode": {
    "name": "ipython",
    "version": 3
   },
   "file_extension": ".py",
   "mimetype": "text/x-python",
   "name": "python",
   "nbconvert_exporter": "python",
   "pygments_lexer": "ipython3",
   "version": "3.7.6"
  }
 },
 "nbformat": 4,
 "nbformat_minor": 2
}
